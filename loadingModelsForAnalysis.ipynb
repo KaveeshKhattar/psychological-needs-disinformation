{
  "nbformat": 4,
  "nbformat_minor": 0,
  "metadata": {
    "colab": {
      "provenance": [],
      "collapsed_sections": [
        "u0CUo7zhovUE",
        "khxs2zKaRoMp",
        "P_nrYcjxomxI",
        "x4aFD2ZQX7ct",
        "FO_P4L-3pD0b",
        "Y3L2X66woy0D",
        "z3G5Cq5SuvGO",
        "OfNB5En_2gAA",
        "37RL0JBvs7qA",
        "RJpsrBQ6s_5R",
        "JuZ3t8gBtDC-",
        "NM_c1OakodVu",
        "Hr9Fj83Ju1yc",
        "amnUyiJ9BuFY",
        "RoxiCmwBHh6K",
        "Y8jJyRJuIKez",
        "rjNjG27M0rrK"
      ]
    },
    "kernelspec": {
      "name": "python3",
      "display_name": "Python 3"
    },
    "language_info": {
      "name": "python"
    },
    "gpuClass": "standard",
    "accelerator": "GPU"
  },
  "cells": [
    {
      "cell_type": "markdown",
      "source": [
        "# Importing Libraries"
      ],
      "metadata": {
        "id": "u0CUo7zhovUE"
      }
    },
    {
      "cell_type": "code",
      "source": [
        "!pip install ktrain"
      ],
      "metadata": {
        "colab": {
          "base_uri": "https://localhost:8080/"
        },
        "id": "z5FHypdwZSzh",
        "outputId": "3f87aa07-9604-459f-f47e-b6f5342b4111"
      },
      "execution_count": null,
      "outputs": [
        {
          "output_type": "stream",
          "name": "stdout",
          "text": [
            "Looking in indexes: https://pypi.org/simple, https://us-python.pkg.dev/colab-wheels/public/simple/\n",
            "Collecting ktrain\n",
            "  Downloading ktrain-0.37.1.tar.gz (25.3 MB)\n",
            "\u001b[2K     \u001b[90m━━━━━━━━━━━━━━━━━━━━━━━━━━━━━━━━━━━━━━━━\u001b[0m \u001b[32m25.3/25.3 MB\u001b[0m \u001b[31m58.4 MB/s\u001b[0m eta \u001b[36m0:00:00\u001b[0m\n",
            "\u001b[?25h  Preparing metadata (setup.py) ... \u001b[?25l\u001b[?25hdone\n",
            "Requirement already satisfied: scikit-learn in /usr/local/lib/python3.10/dist-packages (from ktrain) (1.2.2)\n",
            "Requirement already satisfied: matplotlib>=3.0.0 in /usr/local/lib/python3.10/dist-packages (from ktrain) (3.7.1)\n",
            "Requirement already satisfied: pandas>=1.0.1 in /usr/local/lib/python3.10/dist-packages (from ktrain) (1.5.3)\n",
            "Requirement already satisfied: fastprogress>=0.1.21 in /usr/local/lib/python3.10/dist-packages (from ktrain) (1.0.3)\n",
            "Requirement already satisfied: requests in /usr/local/lib/python3.10/dist-packages (from ktrain) (2.27.1)\n",
            "Requirement already satisfied: joblib in /usr/local/lib/python3.10/dist-packages (from ktrain) (1.2.0)\n",
            "Requirement already satisfied: packaging in /usr/local/lib/python3.10/dist-packages (from ktrain) (23.1)\n",
            "Collecting langdetect (from ktrain)\n",
            "  Downloading langdetect-1.0.9.tar.gz (981 kB)\n",
            "\u001b[2K     \u001b[90m━━━━━━━━━━━━━━━━━━━━━━━━━━━━━━━━━━━━━━\u001b[0m \u001b[32m981.5/981.5 kB\u001b[0m \u001b[31m66.0 MB/s\u001b[0m eta \u001b[36m0:00:00\u001b[0m\n",
            "\u001b[?25h  Preparing metadata (setup.py) ... \u001b[?25l\u001b[?25hdone\n",
            "Requirement already satisfied: jieba in /usr/local/lib/python3.10/dist-packages (from ktrain) (0.42.1)\n",
            "Collecting cchardet (from ktrain)\n",
            "  Downloading cchardet-2.1.7.tar.gz (653 kB)\n",
            "\u001b[2K     \u001b[90m━━━━━━━━━━━━━━━━━━━━━━━━━━━━━━━━━━━━━━\u001b[0m \u001b[32m653.6/653.6 kB\u001b[0m \u001b[31m59.2 MB/s\u001b[0m eta \u001b[36m0:00:00\u001b[0m\n",
            "\u001b[?25h  Preparing metadata (setup.py) ... \u001b[?25l\u001b[?25hdone\n",
            "Requirement already satisfied: chardet in /usr/local/lib/python3.10/dist-packages (from ktrain) (4.0.0)\n",
            "Collecting syntok>1.3.3 (from ktrain)\n",
            "  Downloading syntok-1.4.4-py3-none-any.whl (24 kB)\n",
            "Collecting tika (from ktrain)\n",
            "  Downloading tika-2.6.0.tar.gz (27 kB)\n",
            "  Preparing metadata (setup.py) ... \u001b[?25l\u001b[?25hdone\n",
            "Collecting transformers>=4.17.0 (from ktrain)\n",
            "  Downloading transformers-4.30.1-py3-none-any.whl (7.2 MB)\n",
            "\u001b[2K     \u001b[90m━━━━━━━━━━━━━━━━━━━━━━━━━━━━━━━━━━━━━━━━\u001b[0m \u001b[32m7.2/7.2 MB\u001b[0m \u001b[31m107.0 MB/s\u001b[0m eta \u001b[36m0:00:00\u001b[0m\n",
            "\u001b[?25hCollecting sentencepiece (from ktrain)\n",
            "  Downloading sentencepiece-0.1.99-cp310-cp310-manylinux_2_17_x86_64.manylinux2014_x86_64.whl (1.3 MB)\n",
            "\u001b[2K     \u001b[90m━━━━━━━━━━━━━━━━━━━━━━━━━━━━━━━━━━━━━━━━\u001b[0m \u001b[32m1.3/1.3 MB\u001b[0m \u001b[31m70.5 MB/s\u001b[0m eta \u001b[36m0:00:00\u001b[0m\n",
            "\u001b[?25hCollecting keras_bert>=0.86.0 (from ktrain)\n",
            "  Downloading keras-bert-0.89.0.tar.gz (25 kB)\n",
            "  Preparing metadata (setup.py) ... \u001b[?25l\u001b[?25hdone\n",
            "Collecting whoosh (from ktrain)\n",
            "  Downloading Whoosh-2.7.4-py2.py3-none-any.whl (468 kB)\n",
            "\u001b[2K     \u001b[90m━━━━━━━━━━━━━━━━━━━━━━━━━━━━━━━━━━━━━━\u001b[0m \u001b[32m468.8/468.8 kB\u001b[0m \u001b[31m20.3 MB/s\u001b[0m eta \u001b[36m0:00:00\u001b[0m\n",
            "\u001b[?25hRequirement already satisfied: numpy in /usr/local/lib/python3.10/dist-packages (from keras_bert>=0.86.0->ktrain) (1.22.4)\n",
            "Collecting keras-transformer==0.40.0 (from keras_bert>=0.86.0->ktrain)\n",
            "  Downloading keras-transformer-0.40.0.tar.gz (9.7 kB)\n",
            "  Preparing metadata (setup.py) ... \u001b[?25l\u001b[?25hdone\n",
            "Collecting keras-pos-embd==0.13.0 (from keras-transformer==0.40.0->keras_bert>=0.86.0->ktrain)\n",
            "  Downloading keras-pos-embd-0.13.0.tar.gz (5.6 kB)\n",
            "  Preparing metadata (setup.py) ... \u001b[?25l\u001b[?25hdone\n",
            "Collecting keras-multi-head==0.29.0 (from keras-transformer==0.40.0->keras_bert>=0.86.0->ktrain)\n",
            "  Downloading keras-multi-head-0.29.0.tar.gz (13 kB)\n",
            "  Preparing metadata (setup.py) ... \u001b[?25l\u001b[?25hdone\n",
            "Collecting keras-layer-normalization==0.16.0 (from keras-transformer==0.40.0->keras_bert>=0.86.0->ktrain)\n",
            "  Downloading keras-layer-normalization-0.16.0.tar.gz (3.9 kB)\n",
            "  Preparing metadata (setup.py) ... \u001b[?25l\u001b[?25hdone\n",
            "Collecting keras-position-wise-feed-forward==0.8.0 (from keras-transformer==0.40.0->keras_bert>=0.86.0->ktrain)\n",
            "  Downloading keras-position-wise-feed-forward-0.8.0.tar.gz (4.1 kB)\n",
            "  Preparing metadata (setup.py) ... \u001b[?25l\u001b[?25hdone\n",
            "Collecting keras-embed-sim==0.10.0 (from keras-transformer==0.40.0->keras_bert>=0.86.0->ktrain)\n",
            "  Downloading keras-embed-sim-0.10.0.tar.gz (3.6 kB)\n",
            "  Preparing metadata (setup.py) ... \u001b[?25l\u001b[?25hdone\n",
            "Collecting keras-self-attention==0.51.0 (from keras-multi-head==0.29.0->keras-transformer==0.40.0->keras_bert>=0.86.0->ktrain)\n",
            "  Downloading keras-self-attention-0.51.0.tar.gz (11 kB)\n",
            "  Preparing metadata (setup.py) ... \u001b[?25l\u001b[?25hdone\n",
            "Requirement already satisfied: contourpy>=1.0.1 in /usr/local/lib/python3.10/dist-packages (from matplotlib>=3.0.0->ktrain) (1.0.7)\n",
            "Requirement already satisfied: cycler>=0.10 in /usr/local/lib/python3.10/dist-packages (from matplotlib>=3.0.0->ktrain) (0.11.0)\n",
            "Requirement already satisfied: fonttools>=4.22.0 in /usr/local/lib/python3.10/dist-packages (from matplotlib>=3.0.0->ktrain) (4.39.3)\n",
            "Requirement already satisfied: kiwisolver>=1.0.1 in /usr/local/lib/python3.10/dist-packages (from matplotlib>=3.0.0->ktrain) (1.4.4)\n",
            "Requirement already satisfied: pillow>=6.2.0 in /usr/local/lib/python3.10/dist-packages (from matplotlib>=3.0.0->ktrain) (8.4.0)\n",
            "Requirement already satisfied: pyparsing>=2.3.1 in /usr/local/lib/python3.10/dist-packages (from matplotlib>=3.0.0->ktrain) (3.0.9)\n",
            "Requirement already satisfied: python-dateutil>=2.7 in /usr/local/lib/python3.10/dist-packages (from matplotlib>=3.0.0->ktrain) (2.8.2)\n",
            "Requirement already satisfied: pytz>=2020.1 in /usr/local/lib/python3.10/dist-packages (from pandas>=1.0.1->ktrain) (2022.7.1)\n",
            "Requirement already satisfied: regex>2016 in /usr/local/lib/python3.10/dist-packages (from syntok>1.3.3->ktrain) (2022.10.31)\n",
            "Requirement already satisfied: filelock in /usr/local/lib/python3.10/dist-packages (from transformers>=4.17.0->ktrain) (3.12.0)\n",
            "Collecting huggingface-hub<1.0,>=0.14.1 (from transformers>=4.17.0->ktrain)\n",
            "  Downloading huggingface_hub-0.15.1-py3-none-any.whl (236 kB)\n",
            "\u001b[2K     \u001b[90m━━━━━━━━━━━━━━━━━━━━━━━━━━━━━━━━━━━━━━\u001b[0m \u001b[32m236.8/236.8 kB\u001b[0m \u001b[31m23.4 MB/s\u001b[0m eta \u001b[36m0:00:00\u001b[0m\n",
            "\u001b[?25hRequirement already satisfied: pyyaml>=5.1 in /usr/local/lib/python3.10/dist-packages (from transformers>=4.17.0->ktrain) (6.0)\n",
            "Collecting tokenizers!=0.11.3,<0.14,>=0.11.1 (from transformers>=4.17.0->ktrain)\n",
            "  Downloading tokenizers-0.13.3-cp310-cp310-manylinux_2_17_x86_64.manylinux2014_x86_64.whl (7.8 MB)\n",
            "\u001b[2K     \u001b[90m━━━━━━━━━━━━━━━━━━━━━━━━━━━━━━━━━━━━━━━━\u001b[0m \u001b[32m7.8/7.8 MB\u001b[0m \u001b[31m29.6 MB/s\u001b[0m eta \u001b[36m0:00:00\u001b[0m\n",
            "\u001b[?25hCollecting safetensors>=0.3.1 (from transformers>=4.17.0->ktrain)\n",
            "  Downloading safetensors-0.3.1-cp310-cp310-manylinux_2_17_x86_64.manylinux2014_x86_64.whl (1.3 MB)\n",
            "\u001b[2K     \u001b[90m━━━━━━━━━━━━━━━━━━━━━━━━━━━━━━━━━━━━━━━━\u001b[0m \u001b[32m1.3/1.3 MB\u001b[0m \u001b[31m78.2 MB/s\u001b[0m eta \u001b[36m0:00:00\u001b[0m\n",
            "\u001b[?25hRequirement already satisfied: tqdm>=4.27 in /usr/local/lib/python3.10/dist-packages (from transformers>=4.17.0->ktrain) (4.65.0)\n",
            "Requirement already satisfied: six in /usr/local/lib/python3.10/dist-packages (from langdetect->ktrain) (1.16.0)\n",
            "Requirement already satisfied: urllib3<1.27,>=1.21.1 in /usr/local/lib/python3.10/dist-packages (from requests->ktrain) (1.26.15)\n",
            "Requirement already satisfied: certifi>=2017.4.17 in /usr/local/lib/python3.10/dist-packages (from requests->ktrain) (2022.12.7)\n",
            "Requirement already satisfied: charset-normalizer~=2.0.0 in /usr/local/lib/python3.10/dist-packages (from requests->ktrain) (2.0.12)\n",
            "Requirement already satisfied: idna<4,>=2.5 in /usr/local/lib/python3.10/dist-packages (from requests->ktrain) (3.4)\n",
            "Requirement already satisfied: scipy>=1.3.2 in /usr/local/lib/python3.10/dist-packages (from scikit-learn->ktrain) (1.10.1)\n",
            "Requirement already satisfied: threadpoolctl>=2.0.0 in /usr/local/lib/python3.10/dist-packages (from scikit-learn->ktrain) (3.1.0)\n",
            "Requirement already satisfied: setuptools in /usr/local/lib/python3.10/dist-packages (from tika->ktrain) (67.7.2)\n",
            "Requirement already satisfied: fsspec in /usr/local/lib/python3.10/dist-packages (from huggingface-hub<1.0,>=0.14.1->transformers>=4.17.0->ktrain) (2023.4.0)\n",
            "Requirement already satisfied: typing-extensions>=3.7.4.3 in /usr/local/lib/python3.10/dist-packages (from huggingface-hub<1.0,>=0.14.1->transformers>=4.17.0->ktrain) (4.5.0)\n",
            "Building wheels for collected packages: ktrain, keras_bert, keras-transformer, keras-embed-sim, keras-layer-normalization, keras-multi-head, keras-pos-embd, keras-position-wise-feed-forward, keras-self-attention, cchardet, langdetect, tika\n",
            "  Building wheel for ktrain (setup.py) ... \u001b[?25l\u001b[?25hdone\n",
            "  Created wheel for ktrain: filename=ktrain-0.37.1-py3-none-any.whl size=25320618 sha256=af80e9c394d471662a8e2a337ae9e268efb8fe513e22bda93b3cb49b2049f5da\n",
            "  Stored in directory: /root/.cache/pip/wheels/11/b8/89/09bf488771cc402918285c4a3c07db997f43bb560f5f3ce7e5\n",
            "  Building wheel for keras_bert (setup.py) ... \u001b[?25l\u001b[?25hdone\n",
            "  Created wheel for keras_bert: filename=keras_bert-0.89.0-py3-none-any.whl size=33501 sha256=1581bb34dc878b4d0a5ffcd728254e796d308c2dea0f93ea66edb6d64d324bb4\n",
            "  Stored in directory: /root/.cache/pip/wheels/89/0c/04/646b6fdf6375911b42c8d540a8a3fda8d5d77634e5dcbe7b26\n",
            "  Building wheel for keras-transformer (setup.py) ... \u001b[?25l\u001b[?25hdone\n",
            "  Created wheel for keras-transformer: filename=keras_transformer-0.40.0-py3-none-any.whl size=12287 sha256=00a2a7f724b3ff614bcb61ef5791f781946eb96d791d7b45474296bd6b798926\n",
            "  Stored in directory: /root/.cache/pip/wheels/f2/cb/22/75a0ad376129177f7c95c0d91331a18f5368fd657f4035ba7c\n",
            "  Building wheel for keras-embed-sim (setup.py) ... \u001b[?25l\u001b[?25hdone\n",
            "  Created wheel for keras-embed-sim: filename=keras_embed_sim-0.10.0-py3-none-any.whl size=3943 sha256=806afb00f13bb8cce43a79bf6248e1a23a45e985b9606ce0a5d083d5fedd9354\n",
            "  Stored in directory: /root/.cache/pip/wheels/82/32/c7/fd35d0d1b840a6c7cbd4343f808d10d0f7b87d271a4dbe796f\n",
            "  Building wheel for keras-layer-normalization (setup.py) ... \u001b[?25l\u001b[?25hdone\n",
            "  Created wheel for keras-layer-normalization: filename=keras_layer_normalization-0.16.0-py3-none-any.whl size=4653 sha256=bc751309958ba8436e3f237e769764f7cbd61c14eb5c3af0b638c4bfead14f28\n",
            "  Stored in directory: /root/.cache/pip/wheels/ed/3a/4b/21db23c0cc56c4b219616e181f258eb7c57d36cc5d056fae9a\n",
            "  Building wheel for keras-multi-head (setup.py) ... \u001b[?25l\u001b[?25hdone\n",
            "  Created wheel for keras-multi-head: filename=keras_multi_head-0.29.0-py3-none-any.whl size=14979 sha256=47a0e6b1af5540d86c87b9ebb97cb65f9c263f4559fcb2711187de69c91a4226\n",
            "  Stored in directory: /root/.cache/pip/wheels/cb/23/4b/06d7ae21714f70fcc25b48f972cc8e5e7f4b6b764a038b509d\n",
            "  Building wheel for keras-pos-embd (setup.py) ... \u001b[?25l\u001b[?25hdone\n",
            "  Created wheel for keras-pos-embd: filename=keras_pos_embd-0.13.0-py3-none-any.whl size=6946 sha256=4735f5aff2c0c673ea913c1dbaacd033622e4943554ce014087653ca283891dd\n",
            "  Stored in directory: /root/.cache/pip/wheels/78/07/1b/b1ca47b6ac338554b75c8f52c54e6a2bfbe1b07d79579979a4\n",
            "  Building wheel for keras-position-wise-feed-forward (setup.py) ... \u001b[?25l\u001b[?25hdone\n",
            "  Created wheel for keras-position-wise-feed-forward: filename=keras_position_wise_feed_forward-0.8.0-py3-none-any.whl size=4968 sha256=e6df31eefb9576e9ca10a7b1a4bba3018cb287948dc395d7a236fa59e0ee5f18\n",
            "  Stored in directory: /root/.cache/pip/wheels/c1/6a/04/d1706a53b23b2cb5f9a0a76269bf87925daa1bca09eac01b21\n",
            "  Building wheel for keras-self-attention (setup.py) ... \u001b[?25l\u001b[?25hdone\n",
            "  Created wheel for keras-self-attention: filename=keras_self_attention-0.51.0-py3-none-any.whl size=18895 sha256=98ad652b87dac31e34088f3ccfde2e67ae0cd4a8e833437c796f047df9ed4355\n",
            "  Stored in directory: /root/.cache/pip/wheels/b8/f7/24/607b483144fb9c47b4ba2c5fba6b68e54aeee2d5bf6c05302e\n",
            "  Building wheel for cchardet (setup.py) ... \u001b[?25l\u001b[?25hdone\n",
            "  Created wheel for cchardet: filename=cchardet-2.1.7-cp310-cp310-linux_x86_64.whl size=261586 sha256=3f05a7a290a826985e4dc979d725da2519a7037d312ae6c0d7a4e83a0bd73a6a\n",
            "  Stored in directory: /root/.cache/pip/wheels/ee/e0/ab/e01326f15c59438d080b1496dbab8091e952ec72f35e3c437e\n",
            "  Building wheel for langdetect (setup.py) ... \u001b[?25l\u001b[?25hdone\n",
            "  Created wheel for langdetect: filename=langdetect-1.0.9-py3-none-any.whl size=993224 sha256=bc5a45a91b2a1a28436a7e88d3b8247c82268ffb522074cd380c2abb109d14f9\n",
            "  Stored in directory: /root/.cache/pip/wheels/95/03/7d/59ea870c70ce4e5a370638b5462a7711ab78fba2f655d05106\n",
            "  Building wheel for tika (setup.py) ... \u001b[?25l\u001b[?25hdone\n",
            "  Created wheel for tika: filename=tika-2.6.0-py3-none-any.whl size=32625 sha256=4ff35442479b908d390bafa2f0a28c71cc777eff504613c76ed0ec97bd7e5900\n",
            "  Stored in directory: /root/.cache/pip/wheels/5f/71/c7/b757709531121b1700cffda5b6b0d4aad095fb507ec84316d0\n",
            "Successfully built ktrain keras_bert keras-transformer keras-embed-sim keras-layer-normalization keras-multi-head keras-pos-embd keras-position-wise-feed-forward keras-self-attention cchardet langdetect tika\n",
            "Installing collected packages: whoosh, tokenizers, sentencepiece, safetensors, cchardet, syntok, langdetect, keras-self-attention, keras-position-wise-feed-forward, keras-pos-embd, keras-layer-normalization, keras-embed-sim, tika, keras-multi-head, huggingface-hub, transformers, keras-transformer, keras_bert, ktrain\n",
            "Successfully installed cchardet-2.1.7 huggingface-hub-0.15.1 keras-embed-sim-0.10.0 keras-layer-normalization-0.16.0 keras-multi-head-0.29.0 keras-pos-embd-0.13.0 keras-position-wise-feed-forward-0.8.0 keras-self-attention-0.51.0 keras-transformer-0.40.0 keras_bert-0.89.0 ktrain-0.37.1 langdetect-1.0.9 safetensors-0.3.1 sentencepiece-0.1.99 syntok-1.4.4 tika-2.6.0 tokenizers-0.13.3 transformers-4.30.1 whoosh-2.7.4\n"
          ]
        }
      ]
    },
    {
      "cell_type": "code",
      "source": [
        "import ktrain\n",
        "from ktrain import text\n",
        "import pandas as pd"
      ],
      "metadata": {
        "id": "EXUv58-DZVU6"
      },
      "execution_count": null,
      "outputs": []
    },
    {
      "cell_type": "code",
      "source": [
        "from google.colab import drive\n",
        "drive.mount('/content/drive')"
      ],
      "metadata": {
        "colab": {
          "base_uri": "https://localhost:8080/"
        },
        "id": "rbuiZOE5UY1U",
        "outputId": "8423b9e1-2694-4f8f-a91e-502a833f68dd"
      },
      "execution_count": null,
      "outputs": [
        {
          "output_type": "stream",
          "name": "stdout",
          "text": [
            "Mounted at /content/drive\n"
          ]
        }
      ]
    },
    {
      "cell_type": "markdown",
      "source": [
        "# Getting Files From Drive"
      ],
      "metadata": {
        "id": "khxs2zKaRoMp"
      }
    },
    {
      "cell_type": "code",
      "source": [
        "train_cat = pd.read_csv('/content/drive/MyDrive/Research Paper/Research Paper Resources/Data/category_balanced.csv')\n",
        "val_cat = pd.read_csv('/content/drive/MyDrive/Research Paper/Research Paper Resources/Data/test/category/category_train_val.csv')\n",
        "test_cat = pd.read_csv('/content/drive/MyDrive/Research Paper/Research Paper Resources/Data/test/category/category_test.csv')"
      ],
      "metadata": {
        "id": "470oPy3nWP7p"
      },
      "execution_count": null,
      "outputs": []
    },
    {
      "cell_type": "code",
      "source": [
        "train_sat = pd.read_csv('/content/drive/MyDrive/Research Paper/Research Paper Resources/Data/satisfaction_balanced.csv')\n",
        "val_sat = pd.read_csv('/content/drive/MyDrive/Research Paper/Research Paper Resources/Data/test/satisfaction/satisfaction_train_val.csv')\n",
        "test_sat = pd.read_csv('/content/drive/MyDrive/Research Paper/Research Paper Resources/Data/test/satisfaction/satisfaction_test.csv')"
      ],
      "metadata": {
        "id": "P3lambSNWLue"
      },
      "execution_count": null,
      "outputs": []
    },
    {
      "cell_type": "code",
      "source": [
        "train_env = pd.read_csv('/content/drive/MyDrive/Research Paper/Research Paper Resources/Data/environment_balanced.csv')\n",
        "val_env = pd.read_csv('/content/drive/MyDrive/Research Paper/Research Paper Resources/Data/test/environment/environment_train_val.csv')\n",
        "test_env = pd.read_csv('/content/drive/MyDrive/Research Paper/Research Paper Resources/Data/test/environment/environment_test.csv')"
      ],
      "metadata": {
        "id": "zTvwVYQRWMl6"
      },
      "execution_count": null,
      "outputs": []
    },
    {
      "cell_type": "markdown",
      "source": [
        "# Loading Models"
      ],
      "metadata": {
        "id": "P_nrYcjxomxI"
      }
    },
    {
      "cell_type": "code",
      "execution_count": null,
      "metadata": {
        "id": "D7495Y5RUUjb",
        "colab": {
          "base_uri": "https://localhost:8080/"
        },
        "outputId": "223928ae-1541-47fb-e478-62737e5785a3"
      },
      "outputs": [
        {
          "output_type": "stream",
          "name": "stderr",
          "text": [
            "/usr/local/lib/python3.10/dist-packages/sklearn/base.py:318: UserWarning: Trying to unpickle estimator LabelEncoder from version 1.0.2 when using version 1.2.2. This might lead to breaking code or invalid results. Use at your own risk. For more info please refer to:\n",
            "https://scikit-learn.org/stable/model_persistence.html#security-maintainability-limitations\n",
            "  warnings.warn(\n"
          ]
        }
      ],
      "source": [
        "# cat_model_upload = ktrain.load_predictor('/content/drive/MyDrive/Research Paper/Models/t_preproc/cat_model')\n",
        "cat_model_upload = ktrain.load_predictor('/content/drive/MyDrive/Research Paper/Models/cat_model')"
      ]
    },
    {
      "cell_type": "code",
      "source": [
        "sat_model_upload = ktrain.load_predictor('/content/drive/MyDrive/Research Paper/Models/sat_model')"
      ],
      "metadata": {
        "id": "ttBGmkaCoQ8U",
        "colab": {
          "base_uri": "https://localhost:8080/"
        },
        "outputId": "655ca1f6-f14b-4c14-bfd2-66662c6bee05"
      },
      "execution_count": null,
      "outputs": [
        {
          "output_type": "stream",
          "name": "stderr",
          "text": [
            "/usr/local/lib/python3.10/dist-packages/sklearn/base.py:318: UserWarning: Trying to unpickle estimator LabelEncoder from version 1.0.2 when using version 1.2.2. This might lead to breaking code or invalid results. Use at your own risk. For more info please refer to:\n",
            "https://scikit-learn.org/stable/model_persistence.html#security-maintainability-limitations\n",
            "  warnings.warn(\n"
          ]
        }
      ]
    },
    {
      "cell_type": "code",
      "source": [
        "env_model_upload = ktrain.load_predictor('/content/drive/MyDrive/Research Paper/Models/env_model')"
      ],
      "metadata": {
        "id": "FgqYMz0bojb0"
      },
      "execution_count": null,
      "outputs": []
    },
    {
      "cell_type": "markdown",
      "source": [
        "# Splitting Files"
      ],
      "metadata": {
        "id": "x4aFD2ZQX7ct"
      }
    },
    {
      "cell_type": "code",
      "source": [
        "X_train_cat = train_cat['text'].to_list()\n",
        "y_train_cat = train_cat['category'].to_list()\n",
        "\n",
        "X_val_cat = val_cat['text'].to_list()\n",
        "y_val_cat = val_cat['category'].to_list()\n",
        "\n",
        "X_test_cat = test_cat['text'].to_list()\n",
        "y_test_cat = test_cat['category'].to_list()"
      ],
      "metadata": {
        "id": "cwxutkI4Vxwt"
      },
      "execution_count": null,
      "outputs": []
    },
    {
      "cell_type": "code",
      "source": [
        "X_train_sat = train_sat['text'].to_list()\n",
        "y_train_sat = train_sat['satisfaction'].to_list()\n",
        "\n",
        "X_val_sat = val_sat['text'].to_list()\n",
        "y_val_sat = val_sat['satisfaction'].to_list()\n",
        "\n",
        "X_test_sat = test_sat['text'].to_list()\n",
        "y_test_sat = test_sat['satisfaction'].to_list()"
      ],
      "metadata": {
        "id": "3g89uJ28WZk-"
      },
      "execution_count": null,
      "outputs": []
    },
    {
      "cell_type": "code",
      "source": [
        "X_train_env = train_env['text'].to_list()\n",
        "y_train_env = train_env['environment'].to_list()\n",
        "\n",
        "X_val_env = val_env['text'].to_list()\n",
        "y_val_env = val_env['environment'].to_list()\n",
        "\n",
        "X_test_env = test_env['text'].to_list()\n",
        "y_test_env = test_env['environment'].to_list()"
      ],
      "metadata": {
        "id": "qP53hAhZWaEU"
      },
      "execution_count": null,
      "outputs": []
    },
    {
      "cell_type": "markdown",
      "source": [
        "# Predicting"
      ],
      "metadata": {
        "id": "FO_P4L-3pD0b"
      }
    },
    {
      "cell_type": "code",
      "source": [
        "y_pred_cat = cat_model_upload.predict(X_test_cat)\n",
        "y_pred_sat = sat_model_upload.predict(X_test_sat)\n",
        "y_pred_env = env_model_upload.predict(X_test_env)"
      ],
      "metadata": {
        "id": "vE4w8MlnpE-p"
      },
      "execution_count": null,
      "outputs": []
    },
    {
      "cell_type": "markdown",
      "source": [
        "# Cohen Kappa, MCC, Accuracy"
      ],
      "metadata": {
        "id": "Y3L2X66woy0D"
      }
    },
    {
      "cell_type": "code",
      "source": [
        "from sklearn.metrics import confusion_matrix, cohen_kappa_score\n",
        "from sklearn.metrics import matthews_corrcoef\n",
        "\n",
        "cohen_score_cat = cohen_kappa_score(y_test_cat, y_pred_cat)\n",
        "mcc_cat = matthews_corrcoef(y_test_cat, y_pred_cat)\n",
        "\n",
        "cohen_score_sat = cohen_kappa_score(y_test_sat, y_pred_sat)\n",
        "mcc_sat = matthews_corrcoef(y_test_sat, y_pred_sat)\n",
        "\n",
        "cohen_score_env = cohen_kappa_score(y_test_env, y_pred_env)\n",
        "mcc_env = matthews_corrcoef(y_test_env, y_pred_env)\n",
        "\n",
        "print(\n",
        "    [cohen_score_cat, mcc_cat],\n",
        "    [cohen_score_sat, mcc_sat],\n",
        "    [cohen_score_env, mcc_env]\n",
        ")"
      ],
      "metadata": {
        "colab": {
          "base_uri": "https://localhost:8080/"
        },
        "id": "90dCkbhso0d-",
        "outputId": "c903aa9a-bcf7-4c64-90a9-6ed34a6df3e7"
      },
      "execution_count": null,
      "outputs": [
        {
          "output_type": "stream",
          "name": "stdout",
          "text": [
            "[0.6930356416844561, 0.6938665708660922] [0.7969399262531351, 0.7995585133924857] [0.48877459549578517, 0.48925130371707926]\n"
          ]
        }
      ]
    },
    {
      "cell_type": "code",
      "source": [
        "import sklearn\n",
        "\n",
        "print(\n",
        "    sklearn.metrics.accuracy_score(y_test_cat, y_pred_cat),\n",
        "    sklearn.metrics.accuracy_score(y_test_sat, y_pred_sat),\n",
        "    sklearn.metrics.accuracy_score(y_test_env, y_pred_env)\n",
        ")"
      ],
      "metadata": {
        "colab": {
          "base_uri": "https://localhost:8080/"
        },
        "id": "t31qh6MepsY0",
        "outputId": "7c64682b-55e7-4aca-f691-3654b4ca0160"
      },
      "execution_count": null,
      "outputs": [
        {
          "output_type": "stream",
          "name": "stdout",
          "text": [
            "0.8161010260457774 0.8918705603788477 0.7008681925808997\n"
          ]
        }
      ]
    },
    {
      "cell_type": "markdown",
      "source": [
        "# Reading testing files from drive"
      ],
      "metadata": {
        "id": "z3G5Cq5SuvGO"
      }
    },
    {
      "cell_type": "code",
      "source": [
        "f1 = pd.read_csv('/content/gdrive/My Drive/5g_corona_conspiracy_p.csv')\n",
        "f2 = pd.read_csv('/content/gdrive/My Drive/other_conspiracy_p.csv')\n",
        "f3 = pd.read_csv('/content/gdrive/My Drive/non_conspiracy_p.csv')"
      ],
      "metadata": {
        "id": "aW_1j8jZuxXS",
        "colab": {
          "base_uri": "https://localhost:8080/",
          "height": 358
        },
        "outputId": "04be1f83-5575-4165-a449-72036317135c"
      },
      "execution_count": null,
      "outputs": [
        {
          "output_type": "error",
          "ename": "FileNotFoundError",
          "evalue": "ignored",
          "traceback": [
            "\u001b[0;31m---------------------------------------------------------------------------\u001b[0m",
            "\u001b[0;31mFileNotFoundError\u001b[0m                         Traceback (most recent call last)",
            "\u001b[0;32m<ipython-input-16-9c0e2f3c1073>\u001b[0m in \u001b[0;36m<cell line: 1>\u001b[0;34m()\u001b[0m\n\u001b[0;32m----> 1\u001b[0;31m \u001b[0mf1\u001b[0m \u001b[0;34m=\u001b[0m \u001b[0mpd\u001b[0m\u001b[0;34m.\u001b[0m\u001b[0mread_csv\u001b[0m\u001b[0;34m(\u001b[0m\u001b[0;34m'/content/gdrive/My Drive/5g_corona_conspiracy_p.csv'\u001b[0m\u001b[0;34m)\u001b[0m\u001b[0;34m\u001b[0m\u001b[0;34m\u001b[0m\u001b[0m\n\u001b[0m\u001b[1;32m      2\u001b[0m \u001b[0mf2\u001b[0m \u001b[0;34m=\u001b[0m \u001b[0mpd\u001b[0m\u001b[0;34m.\u001b[0m\u001b[0mread_csv\u001b[0m\u001b[0;34m(\u001b[0m\u001b[0;34m'/content/gdrive/My Drive/other_conspiracy_p.csv'\u001b[0m\u001b[0;34m)\u001b[0m\u001b[0;34m\u001b[0m\u001b[0;34m\u001b[0m\u001b[0m\n\u001b[1;32m      3\u001b[0m \u001b[0mf3\u001b[0m \u001b[0;34m=\u001b[0m \u001b[0mpd\u001b[0m\u001b[0;34m.\u001b[0m\u001b[0mread_csv\u001b[0m\u001b[0;34m(\u001b[0m\u001b[0;34m'/content/gdrive/My Drive/non_conspiracy_p.csv'\u001b[0m\u001b[0;34m)\u001b[0m\u001b[0;34m\u001b[0m\u001b[0;34m\u001b[0m\u001b[0m\n",
            "\u001b[0;32m/usr/local/lib/python3.10/dist-packages/pandas/util/_decorators.py\u001b[0m in \u001b[0;36mwrapper\u001b[0;34m(*args, **kwargs)\u001b[0m\n\u001b[1;32m    209\u001b[0m                 \u001b[0;32melse\u001b[0m\u001b[0;34m:\u001b[0m\u001b[0;34m\u001b[0m\u001b[0;34m\u001b[0m\u001b[0m\n\u001b[1;32m    210\u001b[0m                     \u001b[0mkwargs\u001b[0m\u001b[0;34m[\u001b[0m\u001b[0mnew_arg_name\u001b[0m\u001b[0;34m]\u001b[0m \u001b[0;34m=\u001b[0m \u001b[0mnew_arg_value\u001b[0m\u001b[0;34m\u001b[0m\u001b[0;34m\u001b[0m\u001b[0m\n\u001b[0;32m--> 211\u001b[0;31m             \u001b[0;32mreturn\u001b[0m \u001b[0mfunc\u001b[0m\u001b[0;34m(\u001b[0m\u001b[0;34m*\u001b[0m\u001b[0margs\u001b[0m\u001b[0;34m,\u001b[0m \u001b[0;34m**\u001b[0m\u001b[0mkwargs\u001b[0m\u001b[0;34m)\u001b[0m\u001b[0;34m\u001b[0m\u001b[0;34m\u001b[0m\u001b[0m\n\u001b[0m\u001b[1;32m    212\u001b[0m \u001b[0;34m\u001b[0m\u001b[0m\n\u001b[1;32m    213\u001b[0m         \u001b[0;32mreturn\u001b[0m \u001b[0mcast\u001b[0m\u001b[0;34m(\u001b[0m\u001b[0mF\u001b[0m\u001b[0;34m,\u001b[0m \u001b[0mwrapper\u001b[0m\u001b[0;34m)\u001b[0m\u001b[0;34m\u001b[0m\u001b[0;34m\u001b[0m\u001b[0m\n",
            "\u001b[0;32m/usr/local/lib/python3.10/dist-packages/pandas/util/_decorators.py\u001b[0m in \u001b[0;36mwrapper\u001b[0;34m(*args, **kwargs)\u001b[0m\n\u001b[1;32m    329\u001b[0m                     \u001b[0mstacklevel\u001b[0m\u001b[0;34m=\u001b[0m\u001b[0mfind_stack_level\u001b[0m\u001b[0;34m(\u001b[0m\u001b[0;34m)\u001b[0m\u001b[0;34m,\u001b[0m\u001b[0;34m\u001b[0m\u001b[0;34m\u001b[0m\u001b[0m\n\u001b[1;32m    330\u001b[0m                 )\n\u001b[0;32m--> 331\u001b[0;31m             \u001b[0;32mreturn\u001b[0m \u001b[0mfunc\u001b[0m\u001b[0;34m(\u001b[0m\u001b[0;34m*\u001b[0m\u001b[0margs\u001b[0m\u001b[0;34m,\u001b[0m \u001b[0;34m**\u001b[0m\u001b[0mkwargs\u001b[0m\u001b[0;34m)\u001b[0m\u001b[0;34m\u001b[0m\u001b[0;34m\u001b[0m\u001b[0m\n\u001b[0m\u001b[1;32m    332\u001b[0m \u001b[0;34m\u001b[0m\u001b[0m\n\u001b[1;32m    333\u001b[0m         \u001b[0;31m# error: \"Callable[[VarArg(Any), KwArg(Any)], Any]\" has no\u001b[0m\u001b[0;34m\u001b[0m\u001b[0;34m\u001b[0m\u001b[0m\n",
            "\u001b[0;32m/usr/local/lib/python3.10/dist-packages/pandas/io/parsers/readers.py\u001b[0m in \u001b[0;36mread_csv\u001b[0;34m(filepath_or_buffer, sep, delimiter, header, names, index_col, usecols, squeeze, prefix, mangle_dupe_cols, dtype, engine, converters, true_values, false_values, skipinitialspace, skiprows, skipfooter, nrows, na_values, keep_default_na, na_filter, verbose, skip_blank_lines, parse_dates, infer_datetime_format, keep_date_col, date_parser, dayfirst, cache_dates, iterator, chunksize, compression, thousands, decimal, lineterminator, quotechar, quoting, doublequote, escapechar, comment, encoding, encoding_errors, dialect, error_bad_lines, warn_bad_lines, on_bad_lines, delim_whitespace, low_memory, memory_map, float_precision, storage_options)\u001b[0m\n\u001b[1;32m    948\u001b[0m     \u001b[0mkwds\u001b[0m\u001b[0;34m.\u001b[0m\u001b[0mupdate\u001b[0m\u001b[0;34m(\u001b[0m\u001b[0mkwds_defaults\u001b[0m\u001b[0;34m)\u001b[0m\u001b[0;34m\u001b[0m\u001b[0;34m\u001b[0m\u001b[0m\n\u001b[1;32m    949\u001b[0m \u001b[0;34m\u001b[0m\u001b[0m\n\u001b[0;32m--> 950\u001b[0;31m     \u001b[0;32mreturn\u001b[0m \u001b[0m_read\u001b[0m\u001b[0;34m(\u001b[0m\u001b[0mfilepath_or_buffer\u001b[0m\u001b[0;34m,\u001b[0m \u001b[0mkwds\u001b[0m\u001b[0;34m)\u001b[0m\u001b[0;34m\u001b[0m\u001b[0;34m\u001b[0m\u001b[0m\n\u001b[0m\u001b[1;32m    951\u001b[0m \u001b[0;34m\u001b[0m\u001b[0m\n\u001b[1;32m    952\u001b[0m \u001b[0;34m\u001b[0m\u001b[0m\n",
            "\u001b[0;32m/usr/local/lib/python3.10/dist-packages/pandas/io/parsers/readers.py\u001b[0m in \u001b[0;36m_read\u001b[0;34m(filepath_or_buffer, kwds)\u001b[0m\n\u001b[1;32m    603\u001b[0m \u001b[0;34m\u001b[0m\u001b[0m\n\u001b[1;32m    604\u001b[0m     \u001b[0;31m# Create the parser.\u001b[0m\u001b[0;34m\u001b[0m\u001b[0;34m\u001b[0m\u001b[0m\n\u001b[0;32m--> 605\u001b[0;31m     \u001b[0mparser\u001b[0m \u001b[0;34m=\u001b[0m \u001b[0mTextFileReader\u001b[0m\u001b[0;34m(\u001b[0m\u001b[0mfilepath_or_buffer\u001b[0m\u001b[0;34m,\u001b[0m \u001b[0;34m**\u001b[0m\u001b[0mkwds\u001b[0m\u001b[0;34m)\u001b[0m\u001b[0;34m\u001b[0m\u001b[0;34m\u001b[0m\u001b[0m\n\u001b[0m\u001b[1;32m    606\u001b[0m \u001b[0;34m\u001b[0m\u001b[0m\n\u001b[1;32m    607\u001b[0m     \u001b[0;32mif\u001b[0m \u001b[0mchunksize\u001b[0m \u001b[0;32mor\u001b[0m \u001b[0miterator\u001b[0m\u001b[0;34m:\u001b[0m\u001b[0;34m\u001b[0m\u001b[0;34m\u001b[0m\u001b[0m\n",
            "\u001b[0;32m/usr/local/lib/python3.10/dist-packages/pandas/io/parsers/readers.py\u001b[0m in \u001b[0;36m__init__\u001b[0;34m(self, f, engine, **kwds)\u001b[0m\n\u001b[1;32m   1440\u001b[0m \u001b[0;34m\u001b[0m\u001b[0m\n\u001b[1;32m   1441\u001b[0m         \u001b[0mself\u001b[0m\u001b[0;34m.\u001b[0m\u001b[0mhandles\u001b[0m\u001b[0;34m:\u001b[0m \u001b[0mIOHandles\u001b[0m \u001b[0;34m|\u001b[0m \u001b[0;32mNone\u001b[0m \u001b[0;34m=\u001b[0m \u001b[0;32mNone\u001b[0m\u001b[0;34m\u001b[0m\u001b[0;34m\u001b[0m\u001b[0m\n\u001b[0;32m-> 1442\u001b[0;31m         \u001b[0mself\u001b[0m\u001b[0;34m.\u001b[0m\u001b[0m_engine\u001b[0m \u001b[0;34m=\u001b[0m \u001b[0mself\u001b[0m\u001b[0;34m.\u001b[0m\u001b[0m_make_engine\u001b[0m\u001b[0;34m(\u001b[0m\u001b[0mf\u001b[0m\u001b[0;34m,\u001b[0m \u001b[0mself\u001b[0m\u001b[0;34m.\u001b[0m\u001b[0mengine\u001b[0m\u001b[0;34m)\u001b[0m\u001b[0;34m\u001b[0m\u001b[0;34m\u001b[0m\u001b[0m\n\u001b[0m\u001b[1;32m   1443\u001b[0m \u001b[0;34m\u001b[0m\u001b[0m\n\u001b[1;32m   1444\u001b[0m     \u001b[0;32mdef\u001b[0m \u001b[0mclose\u001b[0m\u001b[0;34m(\u001b[0m\u001b[0mself\u001b[0m\u001b[0;34m)\u001b[0m \u001b[0;34m->\u001b[0m \u001b[0;32mNone\u001b[0m\u001b[0;34m:\u001b[0m\u001b[0;34m\u001b[0m\u001b[0;34m\u001b[0m\u001b[0m\n",
            "\u001b[0;32m/usr/local/lib/python3.10/dist-packages/pandas/io/parsers/readers.py\u001b[0m in \u001b[0;36m_make_engine\u001b[0;34m(self, f, engine)\u001b[0m\n\u001b[1;32m   1733\u001b[0m                 \u001b[0;32mif\u001b[0m \u001b[0;34m\"b\"\u001b[0m \u001b[0;32mnot\u001b[0m \u001b[0;32min\u001b[0m \u001b[0mmode\u001b[0m\u001b[0;34m:\u001b[0m\u001b[0;34m\u001b[0m\u001b[0;34m\u001b[0m\u001b[0m\n\u001b[1;32m   1734\u001b[0m                     \u001b[0mmode\u001b[0m \u001b[0;34m+=\u001b[0m \u001b[0;34m\"b\"\u001b[0m\u001b[0;34m\u001b[0m\u001b[0;34m\u001b[0m\u001b[0m\n\u001b[0;32m-> 1735\u001b[0;31m             self.handles = get_handle(\n\u001b[0m\u001b[1;32m   1736\u001b[0m                 \u001b[0mf\u001b[0m\u001b[0;34m,\u001b[0m\u001b[0;34m\u001b[0m\u001b[0;34m\u001b[0m\u001b[0m\n\u001b[1;32m   1737\u001b[0m                 \u001b[0mmode\u001b[0m\u001b[0;34m,\u001b[0m\u001b[0;34m\u001b[0m\u001b[0;34m\u001b[0m\u001b[0m\n",
            "\u001b[0;32m/usr/local/lib/python3.10/dist-packages/pandas/io/common.py\u001b[0m in \u001b[0;36mget_handle\u001b[0;34m(path_or_buf, mode, encoding, compression, memory_map, is_text, errors, storage_options)\u001b[0m\n\u001b[1;32m    854\u001b[0m         \u001b[0;32mif\u001b[0m \u001b[0mioargs\u001b[0m\u001b[0;34m.\u001b[0m\u001b[0mencoding\u001b[0m \u001b[0;32mand\u001b[0m \u001b[0;34m\"b\"\u001b[0m \u001b[0;32mnot\u001b[0m \u001b[0;32min\u001b[0m \u001b[0mioargs\u001b[0m\u001b[0;34m.\u001b[0m\u001b[0mmode\u001b[0m\u001b[0;34m:\u001b[0m\u001b[0;34m\u001b[0m\u001b[0;34m\u001b[0m\u001b[0m\n\u001b[1;32m    855\u001b[0m             \u001b[0;31m# Encoding\u001b[0m\u001b[0;34m\u001b[0m\u001b[0;34m\u001b[0m\u001b[0m\n\u001b[0;32m--> 856\u001b[0;31m             handle = open(\n\u001b[0m\u001b[1;32m    857\u001b[0m                 \u001b[0mhandle\u001b[0m\u001b[0;34m,\u001b[0m\u001b[0;34m\u001b[0m\u001b[0;34m\u001b[0m\u001b[0m\n\u001b[1;32m    858\u001b[0m                 \u001b[0mioargs\u001b[0m\u001b[0;34m.\u001b[0m\u001b[0mmode\u001b[0m\u001b[0;34m,\u001b[0m\u001b[0;34m\u001b[0m\u001b[0;34m\u001b[0m\u001b[0m\n",
            "\u001b[0;31mFileNotFoundError\u001b[0m: [Errno 2] No such file or directory: '/content/gdrive/My Drive/5g_corona_conspiracy_p.csv'"
          ]
        }
      ]
    },
    {
      "cell_type": "markdown",
      "source": [
        "# Predicting"
      ],
      "metadata": {
        "id": "OfNB5En_2gAA"
      }
    },
    {
      "cell_type": "code",
      "source": [
        "tmp_f1 = f1['pp_text'].to_list()\n",
        "tmp_f2 = f2['pp_text'].to_list()\n",
        "tmp_f3 = f3['pp_text'].to_list()"
      ],
      "metadata": {
        "id": "GaseoI3b3gXW"
      },
      "execution_count": null,
      "outputs": []
    },
    {
      "cell_type": "code",
      "source": [
        "y_pred_cat_f1 = cat_model_upload.predict(tmp_f1)\n",
        "y_pred_sat_f1 = sat_model_upload.predict(tmp_f1)\n",
        "y_pred_env_f1 = env_model_upload.predict(tmp_f1)\n",
        "\n",
        "y_pred_cat_f2 = cat_model_upload.predict(tmp_f2)\n",
        "y_pred_sat_f2 = sat_model_upload.predict(tmp_f2)\n",
        "y_pred_env_f2 = env_model_upload.predict(tmp_f2)\n",
        "\n",
        "y_pred_cat_f3 = cat_model_upload.predict(tmp_f3)\n",
        "y_pred_sat_f3 = sat_model_upload.predict(tmp_f3)\n",
        "y_pred_env_f3 = env_model_upload.predict(tmp_f3)"
      ],
      "metadata": {
        "id": "IgZx8Nlr1k4x"
      },
      "execution_count": null,
      "outputs": []
    },
    {
      "cell_type": "markdown",
      "source": [
        "# Converting to Series"
      ],
      "metadata": {
        "id": "37RL0JBvs7qA"
      }
    },
    {
      "cell_type": "code",
      "source": [
        "cat_f1_series = pd.Series( (v for v in y_pred_cat_f1) )\n",
        "sat_f1_series = pd.Series( (v for v in y_pred_sat_f1) )\n",
        "env_f1_series = pd.Series( (v for v in y_pred_env_f1) )\n",
        "\n",
        "cat_f2_series = pd.Series( (v for v in y_pred_cat_f2) )\n",
        "sat_f2_series = pd.Series( (v for v in y_pred_sat_f2) )\n",
        "env_f2_series = pd.Series( (v for v in y_pred_env_f2) )\n",
        "\n",
        "cat_f3_series = pd.Series( (v for v in y_pred_cat_f3) )\n",
        "sat_f3_series = pd.Series( (v for v in y_pred_sat_f3) )\n",
        "env_f3_series = pd.Series( (v for v in y_pred_env_f3) )"
      ],
      "metadata": {
        "id": "BHH8ImzN2oSh"
      },
      "execution_count": null,
      "outputs": []
    },
    {
      "cell_type": "code",
      "source": [
        "type(f1['pp_text'])"
      ],
      "metadata": {
        "id": "bGKQG-ph4mrr"
      },
      "execution_count": null,
      "outputs": []
    },
    {
      "cell_type": "markdown",
      "source": [
        "# Creating a DataFrame"
      ],
      "metadata": {
        "id": "RJpsrBQ6s_5R"
      }
    },
    {
      "cell_type": "code",
      "source": [
        "new_f1 = pd.concat([f1['pp_text'], cat_f1_series, sat_f1_series, env_f1_series], axis=1)\n",
        "new_f2 = pd.concat([f2['pp_text'], cat_f2_series, sat_f2_series, env_f2_series], axis=1)\n",
        "new_f3 = pd.concat([f3['pp_text'], cat_f3_series, sat_f3_series, env_f3_series], axis=1)"
      ],
      "metadata": {
        "id": "mwvgkRX_26V1"
      },
      "execution_count": null,
      "outputs": []
    },
    {
      "cell_type": "code",
      "source": [
        "new_f1.columns = ['pp_text', 'Category', 'Satisfaction', 'Environment']\n",
        "new_f2.columns = ['pp_text', 'Category', 'Satisfaction', 'Environment']\n",
        "new_f3.columns = ['pp_text', 'Category', 'Satisfaction', 'Environment']"
      ],
      "metadata": {
        "id": "Nd7H5RPI3Y3e"
      },
      "execution_count": null,
      "outputs": []
    },
    {
      "cell_type": "markdown",
      "source": [
        "# Converting to CSV"
      ],
      "metadata": {
        "id": "JuZ3t8gBtDC-"
      }
    },
    {
      "cell_type": "code",
      "source": [
        "new_f1.to_csv('5g_corona_conspiracy_p_3_cols.csv')\n",
        "new_f2.to_csv('other_conspiracy_p_3_cols.csv')\n",
        "new_f3.to_csv('non_conspiracy_p_3_cols.csv')"
      ],
      "metadata": {
        "id": "s9NSOpXK5L_B"
      },
      "execution_count": null,
      "outputs": []
    },
    {
      "cell_type": "markdown",
      "source": [
        "# Fake News"
      ],
      "metadata": {
        "id": "NM_c1OakodVu"
      }
    },
    {
      "cell_type": "code",
      "source": [
        "fake_df = pd.read_csv('/content/drive/MyDrive/Research Paper/Disinformation_dataset/fake_news_dataset/rumour/Fake.csv')"
      ],
      "metadata": {
        "id": "cm3xSvbHoqM8"
      },
      "execution_count": null,
      "outputs": []
    },
    {
      "cell_type": "code",
      "source": [
        "revised_fake_df = fake_df[['title', 'subject']]"
      ],
      "metadata": {
        "id": "auvTEFvmseij"
      },
      "execution_count": null,
      "outputs": []
    },
    {
      "cell_type": "code",
      "source": [
        "X_test = revised_fake_df['title'].to_list()\n",
        "\n",
        "y_pred_fake_cat = cat_model_upload.predict(X_test)\n",
        "y_pred_fake_sat = sat_model_upload.predict(X_test)\n",
        "y_pred_fake_env = env_model_upload.predict(X_test)"
      ],
      "metadata": {
        "id": "2TztGnA6siS9"
      },
      "execution_count": null,
      "outputs": []
    },
    {
      "cell_type": "code",
      "source": [
        "cat_fake_series = pd.Series( (v for v in y_pred_fake_cat) )\n",
        "sat_fake_series = pd.Series( (v for v in y_pred_fake_sat) )\n",
        "env_fake_series = pd.Series( (v for v in y_pred_fake_env) )\n",
        "\n",
        "final_fake = pd.concat([revised_fake_df['title'], revised_fake_df['subject'], cat_fake_series, sat_fake_series, env_fake_series], axis=1)\n",
        "\n",
        "final_fake.columns = ['title', 'subject', 'Category', 'Satisfaction', 'Environment']"
      ],
      "metadata": {
        "id": "RzEF-TlJuSpO"
      },
      "execution_count": null,
      "outputs": []
    },
    {
      "cell_type": "code",
      "source": [
        "final_fake.to_csv('fake_updated_with_3_cols.csv')"
      ],
      "metadata": {
        "id": "vrh6a3Z4wjnd"
      },
      "execution_count": null,
      "outputs": []
    },
    {
      "cell_type": "markdown",
      "source": [
        "# True News"
      ],
      "metadata": {
        "id": "Hr9Fj83Ju1yc"
      }
    },
    {
      "cell_type": "code",
      "source": [
        "true_df = pd.read_csv('/content/drive/MyDrive/Research Paper/Disinformation_dataset/fake_news_dataset/rumour/True.csv')\n",
        "\n",
        "revised_true_df = true_df[['title', 'subject']]\n",
        "\n",
        "X_true_test = revised_true_df['title'].to_list()\n",
        "\n",
        "y_pred_true_cat = cat_model_upload.predict(X_true_test)\n",
        "y_pred_true_sat = sat_model_upload.predict(X_true_test)\n",
        "y_pred_true_env = env_model_upload.predict(X_true_test)"
      ],
      "metadata": {
        "id": "t-67IsoFu4GT"
      },
      "execution_count": null,
      "outputs": []
    },
    {
      "cell_type": "code",
      "source": [
        "cat_true_series = pd.Series( (v for v in y_pred_true_cat) )\n",
        "sat_true_series = pd.Series( (v for v in y_pred_true_sat) )\n",
        "env_true_series = pd.Series( (v for v in y_pred_true_env) )\n",
        "\n",
        "final_true = pd.concat([revised_true_df['title'], revised_true_df['subject'], cat_true_series, sat_true_series, env_true_series], axis=1)\n",
        "\n",
        "final_true.columns = ['title', 'subject', 'Category', 'Satisfaction', 'Environment']"
      ],
      "metadata": {
        "id": "ANiDPqUJvQLI"
      },
      "execution_count": null,
      "outputs": []
    },
    {
      "cell_type": "code",
      "source": [
        "final_true.to_csv('true_updated_with_3_cols.csv')"
      ],
      "metadata": {
        "id": "vmTZny0-wgPr"
      },
      "execution_count": null,
      "outputs": []
    },
    {
      "cell_type": "markdown",
      "source": [
        "# Analysis (Fake)"
      ],
      "metadata": {
        "id": "amnUyiJ9BuFY"
      }
    },
    {
      "cell_type": "code",
      "source": [
        "final_fake = pd.read_csv('/content/gdrive/My Drive/Research Paper Resources/FakeNewsDataset/fake_updated_with_3_cols.csv')"
      ],
      "metadata": {
        "id": "Vj3RyLi2CS_T"
      },
      "execution_count": null,
      "outputs": []
    },
    {
      "cell_type": "code",
      "source": [
        "final_fake.head()"
      ],
      "metadata": {
        "colab": {
          "base_uri": "https://localhost:8080/",
          "height": 204
        },
        "id": "DMTsViO4B6M_",
        "outputId": "97ab440e-3846-4d6e-f4ea-44775fc82f27"
      },
      "execution_count": null,
      "outputs": [
        {
          "output_type": "execute_result",
          "data": {
            "text/plain": [
              "   Unnamed: 0                                              title subject  \\\n",
              "0           0   Donald Trump Sends Out Embarrassing New Year’...    News   \n",
              "1           1   Drunk Bragging Trump Staffer Started Russian ...    News   \n",
              "2           2   Sheriff David Clarke Becomes An Internet Joke...    News   \n",
              "3           3   Trump Is So Obsessed He Even Has Obama’s Name...    News   \n",
              "4           4   Pope Francis Just Called Out Donald Trump Dur...    News   \n",
              "\n",
              "      Category  Satisfaction     Environment  \n",
              "0  Relatedness  Dissatisfied  Non-Supportive  \n",
              "1  Relatedness  Dissatisfied  Non-Supportive  \n",
              "2  Relatedness  Dissatisfied  Non-Supportive  \n",
              "3  Relatedness  Dissatisfied       Not Clear  \n",
              "4  Relatedness     Satisfied      Supportive  "
            ],
            "text/html": [
              "\n",
              "  <div id=\"df-f466a481-ca87-4ed7-9e9b-37ecde02cfb3\">\n",
              "    <div class=\"colab-df-container\">\n",
              "      <div>\n",
              "<style scoped>\n",
              "    .dataframe tbody tr th:only-of-type {\n",
              "        vertical-align: middle;\n",
              "    }\n",
              "\n",
              "    .dataframe tbody tr th {\n",
              "        vertical-align: top;\n",
              "    }\n",
              "\n",
              "    .dataframe thead th {\n",
              "        text-align: right;\n",
              "    }\n",
              "</style>\n",
              "<table border=\"1\" class=\"dataframe\">\n",
              "  <thead>\n",
              "    <tr style=\"text-align: right;\">\n",
              "      <th></th>\n",
              "      <th>Unnamed: 0</th>\n",
              "      <th>title</th>\n",
              "      <th>subject</th>\n",
              "      <th>Category</th>\n",
              "      <th>Satisfaction</th>\n",
              "      <th>Environment</th>\n",
              "    </tr>\n",
              "  </thead>\n",
              "  <tbody>\n",
              "    <tr>\n",
              "      <th>0</th>\n",
              "      <td>0</td>\n",
              "      <td>Donald Trump Sends Out Embarrassing New Year’...</td>\n",
              "      <td>News</td>\n",
              "      <td>Relatedness</td>\n",
              "      <td>Dissatisfied</td>\n",
              "      <td>Non-Supportive</td>\n",
              "    </tr>\n",
              "    <tr>\n",
              "      <th>1</th>\n",
              "      <td>1</td>\n",
              "      <td>Drunk Bragging Trump Staffer Started Russian ...</td>\n",
              "      <td>News</td>\n",
              "      <td>Relatedness</td>\n",
              "      <td>Dissatisfied</td>\n",
              "      <td>Non-Supportive</td>\n",
              "    </tr>\n",
              "    <tr>\n",
              "      <th>2</th>\n",
              "      <td>2</td>\n",
              "      <td>Sheriff David Clarke Becomes An Internet Joke...</td>\n",
              "      <td>News</td>\n",
              "      <td>Relatedness</td>\n",
              "      <td>Dissatisfied</td>\n",
              "      <td>Non-Supportive</td>\n",
              "    </tr>\n",
              "    <tr>\n",
              "      <th>3</th>\n",
              "      <td>3</td>\n",
              "      <td>Trump Is So Obsessed He Even Has Obama’s Name...</td>\n",
              "      <td>News</td>\n",
              "      <td>Relatedness</td>\n",
              "      <td>Dissatisfied</td>\n",
              "      <td>Not Clear</td>\n",
              "    </tr>\n",
              "    <tr>\n",
              "      <th>4</th>\n",
              "      <td>4</td>\n",
              "      <td>Pope Francis Just Called Out Donald Trump Dur...</td>\n",
              "      <td>News</td>\n",
              "      <td>Relatedness</td>\n",
              "      <td>Satisfied</td>\n",
              "      <td>Supportive</td>\n",
              "    </tr>\n",
              "  </tbody>\n",
              "</table>\n",
              "</div>\n",
              "      <button class=\"colab-df-convert\" onclick=\"convertToInteractive('df-f466a481-ca87-4ed7-9e9b-37ecde02cfb3')\"\n",
              "              title=\"Convert this dataframe to an interactive table.\"\n",
              "              style=\"display:none;\">\n",
              "        \n",
              "  <svg xmlns=\"http://www.w3.org/2000/svg\" height=\"24px\"viewBox=\"0 0 24 24\"\n",
              "       width=\"24px\">\n",
              "    <path d=\"M0 0h24v24H0V0z\" fill=\"none\"/>\n",
              "    <path d=\"M18.56 5.44l.94 2.06.94-2.06 2.06-.94-2.06-.94-.94-2.06-.94 2.06-2.06.94zm-11 1L8.5 8.5l.94-2.06 2.06-.94-2.06-.94L8.5 2.5l-.94 2.06-2.06.94zm10 10l.94 2.06.94-2.06 2.06-.94-2.06-.94-.94-2.06-.94 2.06-2.06.94z\"/><path d=\"M17.41 7.96l-1.37-1.37c-.4-.4-.92-.59-1.43-.59-.52 0-1.04.2-1.43.59L10.3 9.45l-7.72 7.72c-.78.78-.78 2.05 0 2.83L4 21.41c.39.39.9.59 1.41.59.51 0 1.02-.2 1.41-.59l7.78-7.78 2.81-2.81c.8-.78.8-2.07 0-2.86zM5.41 20L4 18.59l7.72-7.72 1.47 1.35L5.41 20z\"/>\n",
              "  </svg>\n",
              "      </button>\n",
              "      \n",
              "  <style>\n",
              "    .colab-df-container {\n",
              "      display:flex;\n",
              "      flex-wrap:wrap;\n",
              "      gap: 12px;\n",
              "    }\n",
              "\n",
              "    .colab-df-convert {\n",
              "      background-color: #E8F0FE;\n",
              "      border: none;\n",
              "      border-radius: 50%;\n",
              "      cursor: pointer;\n",
              "      display: none;\n",
              "      fill: #1967D2;\n",
              "      height: 32px;\n",
              "      padding: 0 0 0 0;\n",
              "      width: 32px;\n",
              "    }\n",
              "\n",
              "    .colab-df-convert:hover {\n",
              "      background-color: #E2EBFA;\n",
              "      box-shadow: 0px 1px 2px rgba(60, 64, 67, 0.3), 0px 1px 3px 1px rgba(60, 64, 67, 0.15);\n",
              "      fill: #174EA6;\n",
              "    }\n",
              "\n",
              "    [theme=dark] .colab-df-convert {\n",
              "      background-color: #3B4455;\n",
              "      fill: #D2E3FC;\n",
              "    }\n",
              "\n",
              "    [theme=dark] .colab-df-convert:hover {\n",
              "      background-color: #434B5C;\n",
              "      box-shadow: 0px 1px 3px 1px rgba(0, 0, 0, 0.15);\n",
              "      filter: drop-shadow(0px 1px 2px rgba(0, 0, 0, 0.3));\n",
              "      fill: #FFFFFF;\n",
              "    }\n",
              "  </style>\n",
              "\n",
              "      <script>\n",
              "        const buttonEl =\n",
              "          document.querySelector('#df-f466a481-ca87-4ed7-9e9b-37ecde02cfb3 button.colab-df-convert');\n",
              "        buttonEl.style.display =\n",
              "          google.colab.kernel.accessAllowed ? 'block' : 'none';\n",
              "\n",
              "        async function convertToInteractive(key) {\n",
              "          const element = document.querySelector('#df-f466a481-ca87-4ed7-9e9b-37ecde02cfb3');\n",
              "          const dataTable =\n",
              "            await google.colab.kernel.invokeFunction('convertToInteractive',\n",
              "                                                     [key], {});\n",
              "          if (!dataTable) return;\n",
              "\n",
              "          const docLinkHtml = 'Like what you see? Visit the ' +\n",
              "            '<a target=\"_blank\" href=https://colab.research.google.com/notebooks/data_table.ipynb>data table notebook</a>'\n",
              "            + ' to learn more about interactive tables.';\n",
              "          element.innerHTML = '';\n",
              "          dataTable['output_type'] = 'display_data';\n",
              "          await google.colab.output.renderOutput(dataTable, element);\n",
              "          const docLink = document.createElement('div');\n",
              "          docLink.innerHTML = docLinkHtml;\n",
              "          element.appendChild(docLink);\n",
              "        }\n",
              "      </script>\n",
              "    </div>\n",
              "  </div>\n",
              "  "
            ]
          },
          "metadata": {},
          "execution_count": 4
        }
      ]
    },
    {
      "cell_type": "code",
      "source": [
        "final_fake['subject'].value_counts()"
      ],
      "metadata": {
        "colab": {
          "base_uri": "https://localhost:8080/"
        },
        "id": "jmduxyTzCuik",
        "outputId": "0687376d-2a72-47be-8cbe-5f9e53d84b5b"
      },
      "execution_count": null,
      "outputs": [
        {
          "output_type": "execute_result",
          "data": {
            "text/plain": [
              "News               9050\n",
              "politics           6841\n",
              "left-news          4459\n",
              "Government News    1570\n",
              "US_News             783\n",
              "Middle-east         778\n",
              "Name: subject, dtype: int64"
            ]
          },
          "metadata": {},
          "execution_count": 5
        }
      ]
    },
    {
      "cell_type": "code",
      "source": [
        "subject_to_number_mapping = {}\n",
        "count = 0\n",
        "\n",
        "for i in dict(final_fake['subject'].value_counts()).keys():\n",
        "  subject_to_number_mapping[i] = count\n",
        "  count += 1\n",
        "\n",
        "final_fake['subject'] = final_fake['subject'].map(subject_to_number_mapping)"
      ],
      "metadata": {
        "id": "5cf_m7ENBv1L"
      },
      "execution_count": null,
      "outputs": []
    },
    {
      "cell_type": "code",
      "source": [
        "category_to_number_mapping = {\n",
        "    'Autonomy': 0,\n",
        "    'Competence': 1,\n",
        "    'Relatedness': 2\n",
        "}\n",
        "\n",
        "satisfaction_to_number_mapping = {\n",
        "    'Satisfied': 0,\n",
        "    'Dissatisfied': 1,\n",
        "    'Not Clear': 2,\n",
        "    'Neutral': 3,\n",
        "}\n",
        "\n",
        "environment_to_number_mapping = {\n",
        "    'Supportive': 0,\n",
        "    'Non-Supportive': 1,\n",
        "    'Not Clear': 2,\n",
        "}\n",
        "\n",
        "final_fake['Category'] = final_fake['Category'].map(category_to_number_mapping)\n",
        "final_fake['Satisfaction'] = final_fake['Satisfaction'].map(satisfaction_to_number_mapping)\n",
        "final_fake['Environment'] = final_fake['Environment'].map(environment_to_number_mapping)"
      ],
      "metadata": {
        "id": "cisLpheKDoLG"
      },
      "execution_count": null,
      "outputs": []
    },
    {
      "cell_type": "code",
      "source": [
        "print(\n",
        "    final_fake['Category'].corr(final_fake['subject']),\n",
        "    final_fake['Satisfaction'].corr(final_fake['subject']),\n",
        "    final_fake['Environment'].corr(final_fake['subject'])\n",
        ")"
      ],
      "metadata": {
        "colab": {
          "base_uri": "https://localhost:8080/"
        },
        "id": "qzFQXpujEpq-",
        "outputId": "d0328345-ae85-47ed-8eef-3c7cb13a444a"
      },
      "execution_count": null,
      "outputs": [
        {
          "output_type": "stream",
          "name": "stdout",
          "text": [
            "-0.20221341163416673 -0.045882227462746214 0.04734664709417264\n"
          ]
        }
      ]
    },
    {
      "cell_type": "markdown",
      "source": [
        "# Analysis True"
      ],
      "metadata": {
        "id": "RoxiCmwBHh6K"
      }
    },
    {
      "cell_type": "code",
      "source": [
        "final_true = pd.read_csv('/content/gdrive/My Drive/Research Paper Resources/FakeNewsDataset/true_updated_with_3_cols.csv')"
      ],
      "metadata": {
        "id": "h-INeiCUFrTL"
      },
      "execution_count": null,
      "outputs": []
    },
    {
      "cell_type": "code",
      "source": [
        "final_true['subject'].value_counts()\n",
        "\n",
        "final_true['subject'] = final_true['subject'].map(subject_to_number_mapping)\n",
        "\n",
        "final_true['Category'] = final_true['Category'].map(category_to_number_mapping)\n",
        "final_true['Satisfaction'] = final_true['Satisfaction'].map(satisfaction_to_number_mapping)\n",
        "final_true['Environment'] = final_true['Environment'].map(environment_to_number_mapping)"
      ],
      "metadata": {
        "id": "Jhf6jU_8F1k5"
      },
      "execution_count": null,
      "outputs": []
    },
    {
      "cell_type": "code",
      "source": [
        "print(\n",
        "    final_true['Category'].corr(final_true['subject']),\n",
        "    final_true['Satisfaction'].corr(final_true['subject']),\n",
        "    final_true['Environment'].corr(final_true['subject'])\n",
        ")"
      ],
      "metadata": {
        "colab": {
          "base_uri": "https://localhost:8080/"
        },
        "id": "wSkf6ApTGO7r",
        "outputId": "f0f14f71-a24a-4802-e885-aa91f40fd937"
      },
      "execution_count": null,
      "outputs": [
        {
          "output_type": "stream",
          "name": "stdout",
          "text": [
            "-0.20221341163416673 -0.045882227462746214 0.04734664709417264\n"
          ]
        }
      ]
    },
    {
      "cell_type": "code",
      "source": [
        "final_fake['title'].head()"
      ],
      "metadata": {
        "colab": {
          "base_uri": "https://localhost:8080/"
        },
        "id": "2CgM7TnQGjI9",
        "outputId": "1807c0d5-9405-4e29-c00b-cc4d732652e4"
      },
      "execution_count": null,
      "outputs": [
        {
          "output_type": "execute_result",
          "data": {
            "text/plain": [
              "0     Donald Trump Sends Out Embarrassing New Year’...\n",
              "1     Drunk Bragging Trump Staffer Started Russian ...\n",
              "2     Sheriff David Clarke Becomes An Internet Joke...\n",
              "3     Trump Is So Obsessed He Even Has Obama’s Name...\n",
              "4     Pope Francis Just Called Out Donald Trump Dur...\n",
              "Name: title, dtype: object"
            ]
          },
          "metadata": {},
          "execution_count": 14
        }
      ]
    },
    {
      "cell_type": "code",
      "source": [
        "final_true['title'].head()"
      ],
      "metadata": {
        "colab": {
          "base_uri": "https://localhost:8080/"
        },
        "id": "hKS9-SbOGmd-",
        "outputId": "8537b9dd-af1f-46a8-ccf2-eaece44e31b0"
      },
      "execution_count": null,
      "outputs": [
        {
          "output_type": "execute_result",
          "data": {
            "text/plain": [
              "0     Donald Trump Sends Out Embarrassing New Year’...\n",
              "1     Drunk Bragging Trump Staffer Started Russian ...\n",
              "2     Sheriff David Clarke Becomes An Internet Joke...\n",
              "3     Trump Is So Obsessed He Even Has Obama’s Name...\n",
              "4     Pope Francis Just Called Out Donald Trump Dur...\n",
              "Name: title, dtype: object"
            ]
          },
          "metadata": {},
          "execution_count": 15
        }
      ]
    },
    {
      "cell_type": "markdown",
      "source": [
        "# Propaganda Dataset"
      ],
      "metadata": {
        "id": "Y8jJyRJuIKez"
      }
    },
    {
      "cell_type": "code",
      "source": [
        "propaganda_dataset = pd.read_csv('/content/drive/MyDrive/Research Paper/Disinformation_dataset/propganda_data/tweets/tweets.csv')"
      ],
      "metadata": {
        "id": "x5NLdij2INPp"
      },
      "execution_count": null,
      "outputs": []
    },
    {
      "cell_type": "code",
      "source": [
        "propaganda_dataset"
      ],
      "metadata": {
        "colab": {
          "base_uri": "https://localhost:8080/",
          "height": 424
        },
        "id": "WrI7VnoYImG0",
        "outputId": "59c4fd6e-03a2-46e3-9332-4b020e4adf43"
      },
      "execution_count": null,
      "outputs": [
        {
          "output_type": "execute_result",
          "data": {
            "text/plain": [
              "      SnapColumn  SomeColumn  \\\n",
              "0           Snap           0   \n",
              "1           Snap           0   \n",
              "2           Snap           0   \n",
              "3           Snap           0   \n",
              "4           Snap           0   \n",
              "...          ...         ...   \n",
              "17921        IRA           1   \n",
              "17922        IRA           1   \n",
              "17923        IRA           1   \n",
              "17924        IRA           1   \n",
              "17925        IRA           1   \n",
              "\n",
              "                                              TextColumn  \n",
              "0      True! This series is not over we need a strong...  \n",
              "1      SPC Severe Thunderstorm Watch 339: WW 339 SEVE...  \n",
              "2      can anyone recommend a pico projector with mon...  \n",
              "3                                      i got the sims 3!  \n",
              "4      Before the Storm' is a new song from the Jonas...  \n",
              "...                                                  ...  \n",
              "17921  I was honored to be a part of this great rally...  \n",
              "17922  Dallas police refuse to applaud during Obama's...  \n",
              "17923  What mass shootings will be the next? I don't ...  \n",
              "17924              ObamasWishList Obama magic to be real  \n",
              "17925  TopNews New York prison escapee turns 35 on ni...  \n",
              "\n",
              "[17926 rows x 3 columns]"
            ],
            "text/html": [
              "\n",
              "  <div id=\"df-8e1b79c5-cbba-4399-a010-c212e77a7a8d\">\n",
              "    <div class=\"colab-df-container\">\n",
              "      <div>\n",
              "<style scoped>\n",
              "    .dataframe tbody tr th:only-of-type {\n",
              "        vertical-align: middle;\n",
              "    }\n",
              "\n",
              "    .dataframe tbody tr th {\n",
              "        vertical-align: top;\n",
              "    }\n",
              "\n",
              "    .dataframe thead th {\n",
              "        text-align: right;\n",
              "    }\n",
              "</style>\n",
              "<table border=\"1\" class=\"dataframe\">\n",
              "  <thead>\n",
              "    <tr style=\"text-align: right;\">\n",
              "      <th></th>\n",
              "      <th>SnapColumn</th>\n",
              "      <th>SomeColumn</th>\n",
              "      <th>TextColumn</th>\n",
              "    </tr>\n",
              "  </thead>\n",
              "  <tbody>\n",
              "    <tr>\n",
              "      <th>0</th>\n",
              "      <td>Snap</td>\n",
              "      <td>0</td>\n",
              "      <td>True! This series is not over we need a strong...</td>\n",
              "    </tr>\n",
              "    <tr>\n",
              "      <th>1</th>\n",
              "      <td>Snap</td>\n",
              "      <td>0</td>\n",
              "      <td>SPC Severe Thunderstorm Watch 339: WW 339 SEVE...</td>\n",
              "    </tr>\n",
              "    <tr>\n",
              "      <th>2</th>\n",
              "      <td>Snap</td>\n",
              "      <td>0</td>\n",
              "      <td>can anyone recommend a pico projector with mon...</td>\n",
              "    </tr>\n",
              "    <tr>\n",
              "      <th>3</th>\n",
              "      <td>Snap</td>\n",
              "      <td>0</td>\n",
              "      <td>i got the sims 3!</td>\n",
              "    </tr>\n",
              "    <tr>\n",
              "      <th>4</th>\n",
              "      <td>Snap</td>\n",
              "      <td>0</td>\n",
              "      <td>Before the Storm' is a new song from the Jonas...</td>\n",
              "    </tr>\n",
              "    <tr>\n",
              "      <th>...</th>\n",
              "      <td>...</td>\n",
              "      <td>...</td>\n",
              "      <td>...</td>\n",
              "    </tr>\n",
              "    <tr>\n",
              "      <th>17921</th>\n",
              "      <td>IRA</td>\n",
              "      <td>1</td>\n",
              "      <td>I was honored to be a part of this great rally...</td>\n",
              "    </tr>\n",
              "    <tr>\n",
              "      <th>17922</th>\n",
              "      <td>IRA</td>\n",
              "      <td>1</td>\n",
              "      <td>Dallas police refuse to applaud during Obama's...</td>\n",
              "    </tr>\n",
              "    <tr>\n",
              "      <th>17923</th>\n",
              "      <td>IRA</td>\n",
              "      <td>1</td>\n",
              "      <td>What mass shootings will be the next? I don't ...</td>\n",
              "    </tr>\n",
              "    <tr>\n",
              "      <th>17924</th>\n",
              "      <td>IRA</td>\n",
              "      <td>1</td>\n",
              "      <td>ObamasWishList Obama magic to be real</td>\n",
              "    </tr>\n",
              "    <tr>\n",
              "      <th>17925</th>\n",
              "      <td>IRA</td>\n",
              "      <td>1</td>\n",
              "      <td>TopNews New York prison escapee turns 35 on ni...</td>\n",
              "    </tr>\n",
              "  </tbody>\n",
              "</table>\n",
              "<p>17926 rows × 3 columns</p>\n",
              "</div>\n",
              "      <button class=\"colab-df-convert\" onclick=\"convertToInteractive('df-8e1b79c5-cbba-4399-a010-c212e77a7a8d')\"\n",
              "              title=\"Convert this dataframe to an interactive table.\"\n",
              "              style=\"display:none;\">\n",
              "        \n",
              "  <svg xmlns=\"http://www.w3.org/2000/svg\" height=\"24px\"viewBox=\"0 0 24 24\"\n",
              "       width=\"24px\">\n",
              "    <path d=\"M0 0h24v24H0V0z\" fill=\"none\"/>\n",
              "    <path d=\"M18.56 5.44l.94 2.06.94-2.06 2.06-.94-2.06-.94-.94-2.06-.94 2.06-2.06.94zm-11 1L8.5 8.5l.94-2.06 2.06-.94-2.06-.94L8.5 2.5l-.94 2.06-2.06.94zm10 10l.94 2.06.94-2.06 2.06-.94-2.06-.94-.94-2.06-.94 2.06-2.06.94z\"/><path d=\"M17.41 7.96l-1.37-1.37c-.4-.4-.92-.59-1.43-.59-.52 0-1.04.2-1.43.59L10.3 9.45l-7.72 7.72c-.78.78-.78 2.05 0 2.83L4 21.41c.39.39.9.59 1.41.59.51 0 1.02-.2 1.41-.59l7.78-7.78 2.81-2.81c.8-.78.8-2.07 0-2.86zM5.41 20L4 18.59l7.72-7.72 1.47 1.35L5.41 20z\"/>\n",
              "  </svg>\n",
              "      </button>\n",
              "      \n",
              "  <style>\n",
              "    .colab-df-container {\n",
              "      display:flex;\n",
              "      flex-wrap:wrap;\n",
              "      gap: 12px;\n",
              "    }\n",
              "\n",
              "    .colab-df-convert {\n",
              "      background-color: #E8F0FE;\n",
              "      border: none;\n",
              "      border-radius: 50%;\n",
              "      cursor: pointer;\n",
              "      display: none;\n",
              "      fill: #1967D2;\n",
              "      height: 32px;\n",
              "      padding: 0 0 0 0;\n",
              "      width: 32px;\n",
              "    }\n",
              "\n",
              "    .colab-df-convert:hover {\n",
              "      background-color: #E2EBFA;\n",
              "      box-shadow: 0px 1px 2px rgba(60, 64, 67, 0.3), 0px 1px 3px 1px rgba(60, 64, 67, 0.15);\n",
              "      fill: #174EA6;\n",
              "    }\n",
              "\n",
              "    [theme=dark] .colab-df-convert {\n",
              "      background-color: #3B4455;\n",
              "      fill: #D2E3FC;\n",
              "    }\n",
              "\n",
              "    [theme=dark] .colab-df-convert:hover {\n",
              "      background-color: #434B5C;\n",
              "      box-shadow: 0px 1px 3px 1px rgba(0, 0, 0, 0.15);\n",
              "      filter: drop-shadow(0px 1px 2px rgba(0, 0, 0, 0.3));\n",
              "      fill: #FFFFFF;\n",
              "    }\n",
              "  </style>\n",
              "\n",
              "      <script>\n",
              "        const buttonEl =\n",
              "          document.querySelector('#df-8e1b79c5-cbba-4399-a010-c212e77a7a8d button.colab-df-convert');\n",
              "        buttonEl.style.display =\n",
              "          google.colab.kernel.accessAllowed ? 'block' : 'none';\n",
              "\n",
              "        async function convertToInteractive(key) {\n",
              "          const element = document.querySelector('#df-8e1b79c5-cbba-4399-a010-c212e77a7a8d');\n",
              "          const dataTable =\n",
              "            await google.colab.kernel.invokeFunction('convertToInteractive',\n",
              "                                                     [key], {});\n",
              "          if (!dataTable) return;\n",
              "\n",
              "          const docLinkHtml = 'Like what you see? Visit the ' +\n",
              "            '<a target=\"_blank\" href=https://colab.research.google.com/notebooks/data_table.ipynb>data table notebook</a>'\n",
              "            + ' to learn more about interactive tables.';\n",
              "          element.innerHTML = '';\n",
              "          dataTable['output_type'] = 'display_data';\n",
              "          await google.colab.output.renderOutput(dataTable, element);\n",
              "          const docLink = document.createElement('div');\n",
              "          docLink.innerHTML = docLinkHtml;\n",
              "          element.appendChild(docLink);\n",
              "        }\n",
              "      </script>\n",
              "    </div>\n",
              "  </div>\n",
              "  "
            ]
          },
          "metadata": {},
          "execution_count": 47
        }
      ]
    },
    {
      "cell_type": "code",
      "source": [
        "X_test_propaganda = propaganda_dataset['TextColumn'].to_list()\n",
        "\n",
        "y_pred_propaganda_cat = cat_model_upload.predict(X_test_propaganda)\n",
        "y_pred_propaganda_sat = sat_model_upload.predict(X_test_propaganda)\n",
        "y_pred_propaganda_env = env_model_upload.predict(X_test_propaganda)"
      ],
      "metadata": {
        "id": "RqMPKDLsJut_"
      },
      "execution_count": null,
      "outputs": []
    },
    {
      "cell_type": "code",
      "source": [
        "cat_propaganda_series = pd.Series( (v for v in y_pred_propaganda_cat) )\n",
        "sat_propaganda_series = pd.Series( (v for v in y_pred_propaganda_sat) )\n",
        "env_propaganda_series = pd.Series( (v for v in y_pred_propaganda_env) )\n",
        "\n",
        "final_propaganda = pd.concat([propaganda_dataset['SnapColumn'], propaganda_dataset['SomeColumn'], propaganda_dataset['TextColumn'], cat_propaganda_series, sat_propaganda_series, env_propaganda_series], axis=1)\n",
        "\n",
        "final_propaganda.columns = ['SnapColumn', 'SomeColumn', 'TextColumn', 'Category', 'Satisfaction', 'Environment']"
      ],
      "metadata": {
        "id": "uF1JMQO8KC4a"
      },
      "execution_count": null,
      "outputs": []
    },
    {
      "cell_type": "code",
      "source": [
        "final_propaganda"
      ],
      "metadata": {
        "colab": {
          "base_uri": "https://localhost:8080/",
          "height": 424
        },
        "id": "VkYXAMjtK3j9",
        "outputId": "84722742-3c52-4afd-af04-fe99231483e3"
      },
      "execution_count": null,
      "outputs": [
        {
          "output_type": "execute_result",
          "data": {
            "text/plain": [
              "      SnapColumn  SomeColumn  \\\n",
              "0           Snap           0   \n",
              "1           Snap           0   \n",
              "2           Snap           0   \n",
              "3           Snap           0   \n",
              "4           Snap           0   \n",
              "...          ...         ...   \n",
              "17921        IRA           1   \n",
              "17922        IRA           1   \n",
              "17923        IRA           1   \n",
              "17924        IRA           1   \n",
              "17925        IRA           1   \n",
              "\n",
              "                                              TextColumn     Category  \\\n",
              "0      True! This series is not over we need a strong...  Relatedness   \n",
              "1      SPC Severe Thunderstorm Watch 339: WW 339 SEVE...     Autonomy   \n",
              "2      can anyone recommend a pico projector with mon...     Autonomy   \n",
              "3                                      i got the sims 3!     Autonomy   \n",
              "4      Before the Storm' is a new song from the Jonas...  Relatedness   \n",
              "...                                                  ...          ...   \n",
              "17921  I was honored to be a part of this great rally...  Relatedness   \n",
              "17922  Dallas police refuse to applaud during Obama's...  Relatedness   \n",
              "17923  What mass shootings will be the next? I don't ...     Autonomy   \n",
              "17924              ObamasWishList Obama magic to be real  Relatedness   \n",
              "17925  TopNews New York prison escapee turns 35 on ni...     Autonomy   \n",
              "\n",
              "       Satisfaction     Environment  \n",
              "0         Satisfied       Not Clear  \n",
              "1         Satisfied       Not Clear  \n",
              "2           Neutral       Not Clear  \n",
              "3         Satisfied       Not Clear  \n",
              "4         Not Clear      Supportive  \n",
              "...             ...             ...  \n",
              "17921     Satisfied      Supportive  \n",
              "17922  Dissatisfied  Non-Supportive  \n",
              "17923  Dissatisfied  Non-Supportive  \n",
              "17924     Satisfied       Not Clear  \n",
              "17925     Satisfied       Not Clear  \n",
              "\n",
              "[17926 rows x 6 columns]"
            ],
            "text/html": [
              "\n",
              "  <div id=\"df-c7e153f5-b282-4426-a3ea-df7db6c6744e\">\n",
              "    <div class=\"colab-df-container\">\n",
              "      <div>\n",
              "<style scoped>\n",
              "    .dataframe tbody tr th:only-of-type {\n",
              "        vertical-align: middle;\n",
              "    }\n",
              "\n",
              "    .dataframe tbody tr th {\n",
              "        vertical-align: top;\n",
              "    }\n",
              "\n",
              "    .dataframe thead th {\n",
              "        text-align: right;\n",
              "    }\n",
              "</style>\n",
              "<table border=\"1\" class=\"dataframe\">\n",
              "  <thead>\n",
              "    <tr style=\"text-align: right;\">\n",
              "      <th></th>\n",
              "      <th>SnapColumn</th>\n",
              "      <th>SomeColumn</th>\n",
              "      <th>TextColumn</th>\n",
              "      <th>Category</th>\n",
              "      <th>Satisfaction</th>\n",
              "      <th>Environment</th>\n",
              "    </tr>\n",
              "  </thead>\n",
              "  <tbody>\n",
              "    <tr>\n",
              "      <th>0</th>\n",
              "      <td>Snap</td>\n",
              "      <td>0</td>\n",
              "      <td>True! This series is not over we need a strong...</td>\n",
              "      <td>Relatedness</td>\n",
              "      <td>Satisfied</td>\n",
              "      <td>Not Clear</td>\n",
              "    </tr>\n",
              "    <tr>\n",
              "      <th>1</th>\n",
              "      <td>Snap</td>\n",
              "      <td>0</td>\n",
              "      <td>SPC Severe Thunderstorm Watch 339: WW 339 SEVE...</td>\n",
              "      <td>Autonomy</td>\n",
              "      <td>Satisfied</td>\n",
              "      <td>Not Clear</td>\n",
              "    </tr>\n",
              "    <tr>\n",
              "      <th>2</th>\n",
              "      <td>Snap</td>\n",
              "      <td>0</td>\n",
              "      <td>can anyone recommend a pico projector with mon...</td>\n",
              "      <td>Autonomy</td>\n",
              "      <td>Neutral</td>\n",
              "      <td>Not Clear</td>\n",
              "    </tr>\n",
              "    <tr>\n",
              "      <th>3</th>\n",
              "      <td>Snap</td>\n",
              "      <td>0</td>\n",
              "      <td>i got the sims 3!</td>\n",
              "      <td>Autonomy</td>\n",
              "      <td>Satisfied</td>\n",
              "      <td>Not Clear</td>\n",
              "    </tr>\n",
              "    <tr>\n",
              "      <th>4</th>\n",
              "      <td>Snap</td>\n",
              "      <td>0</td>\n",
              "      <td>Before the Storm' is a new song from the Jonas...</td>\n",
              "      <td>Relatedness</td>\n",
              "      <td>Not Clear</td>\n",
              "      <td>Supportive</td>\n",
              "    </tr>\n",
              "    <tr>\n",
              "      <th>...</th>\n",
              "      <td>...</td>\n",
              "      <td>...</td>\n",
              "      <td>...</td>\n",
              "      <td>...</td>\n",
              "      <td>...</td>\n",
              "      <td>...</td>\n",
              "    </tr>\n",
              "    <tr>\n",
              "      <th>17921</th>\n",
              "      <td>IRA</td>\n",
              "      <td>1</td>\n",
              "      <td>I was honored to be a part of this great rally...</td>\n",
              "      <td>Relatedness</td>\n",
              "      <td>Satisfied</td>\n",
              "      <td>Supportive</td>\n",
              "    </tr>\n",
              "    <tr>\n",
              "      <th>17922</th>\n",
              "      <td>IRA</td>\n",
              "      <td>1</td>\n",
              "      <td>Dallas police refuse to applaud during Obama's...</td>\n",
              "      <td>Relatedness</td>\n",
              "      <td>Dissatisfied</td>\n",
              "      <td>Non-Supportive</td>\n",
              "    </tr>\n",
              "    <tr>\n",
              "      <th>17923</th>\n",
              "      <td>IRA</td>\n",
              "      <td>1</td>\n",
              "      <td>What mass shootings will be the next? I don't ...</td>\n",
              "      <td>Autonomy</td>\n",
              "      <td>Dissatisfied</td>\n",
              "      <td>Non-Supportive</td>\n",
              "    </tr>\n",
              "    <tr>\n",
              "      <th>17924</th>\n",
              "      <td>IRA</td>\n",
              "      <td>1</td>\n",
              "      <td>ObamasWishList Obama magic to be real</td>\n",
              "      <td>Relatedness</td>\n",
              "      <td>Satisfied</td>\n",
              "      <td>Not Clear</td>\n",
              "    </tr>\n",
              "    <tr>\n",
              "      <th>17925</th>\n",
              "      <td>IRA</td>\n",
              "      <td>1</td>\n",
              "      <td>TopNews New York prison escapee turns 35 on ni...</td>\n",
              "      <td>Autonomy</td>\n",
              "      <td>Satisfied</td>\n",
              "      <td>Not Clear</td>\n",
              "    </tr>\n",
              "  </tbody>\n",
              "</table>\n",
              "<p>17926 rows × 6 columns</p>\n",
              "</div>\n",
              "      <button class=\"colab-df-convert\" onclick=\"convertToInteractive('df-c7e153f5-b282-4426-a3ea-df7db6c6744e')\"\n",
              "              title=\"Convert this dataframe to an interactive table.\"\n",
              "              style=\"display:none;\">\n",
              "        \n",
              "  <svg xmlns=\"http://www.w3.org/2000/svg\" height=\"24px\"viewBox=\"0 0 24 24\"\n",
              "       width=\"24px\">\n",
              "    <path d=\"M0 0h24v24H0V0z\" fill=\"none\"/>\n",
              "    <path d=\"M18.56 5.44l.94 2.06.94-2.06 2.06-.94-2.06-.94-.94-2.06-.94 2.06-2.06.94zm-11 1L8.5 8.5l.94-2.06 2.06-.94-2.06-.94L8.5 2.5l-.94 2.06-2.06.94zm10 10l.94 2.06.94-2.06 2.06-.94-2.06-.94-.94-2.06-.94 2.06-2.06.94z\"/><path d=\"M17.41 7.96l-1.37-1.37c-.4-.4-.92-.59-1.43-.59-.52 0-1.04.2-1.43.59L10.3 9.45l-7.72 7.72c-.78.78-.78 2.05 0 2.83L4 21.41c.39.39.9.59 1.41.59.51 0 1.02-.2 1.41-.59l7.78-7.78 2.81-2.81c.8-.78.8-2.07 0-2.86zM5.41 20L4 18.59l7.72-7.72 1.47 1.35L5.41 20z\"/>\n",
              "  </svg>\n",
              "      </button>\n",
              "      \n",
              "  <style>\n",
              "    .colab-df-container {\n",
              "      display:flex;\n",
              "      flex-wrap:wrap;\n",
              "      gap: 12px;\n",
              "    }\n",
              "\n",
              "    .colab-df-convert {\n",
              "      background-color: #E8F0FE;\n",
              "      border: none;\n",
              "      border-radius: 50%;\n",
              "      cursor: pointer;\n",
              "      display: none;\n",
              "      fill: #1967D2;\n",
              "      height: 32px;\n",
              "      padding: 0 0 0 0;\n",
              "      width: 32px;\n",
              "    }\n",
              "\n",
              "    .colab-df-convert:hover {\n",
              "      background-color: #E2EBFA;\n",
              "      box-shadow: 0px 1px 2px rgba(60, 64, 67, 0.3), 0px 1px 3px 1px rgba(60, 64, 67, 0.15);\n",
              "      fill: #174EA6;\n",
              "    }\n",
              "\n",
              "    [theme=dark] .colab-df-convert {\n",
              "      background-color: #3B4455;\n",
              "      fill: #D2E3FC;\n",
              "    }\n",
              "\n",
              "    [theme=dark] .colab-df-convert:hover {\n",
              "      background-color: #434B5C;\n",
              "      box-shadow: 0px 1px 3px 1px rgba(0, 0, 0, 0.15);\n",
              "      filter: drop-shadow(0px 1px 2px rgba(0, 0, 0, 0.3));\n",
              "      fill: #FFFFFF;\n",
              "    }\n",
              "  </style>\n",
              "\n",
              "      <script>\n",
              "        const buttonEl =\n",
              "          document.querySelector('#df-c7e153f5-b282-4426-a3ea-df7db6c6744e button.colab-df-convert');\n",
              "        buttonEl.style.display =\n",
              "          google.colab.kernel.accessAllowed ? 'block' : 'none';\n",
              "\n",
              "        async function convertToInteractive(key) {\n",
              "          const element = document.querySelector('#df-c7e153f5-b282-4426-a3ea-df7db6c6744e');\n",
              "          const dataTable =\n",
              "            await google.colab.kernel.invokeFunction('convertToInteractive',\n",
              "                                                     [key], {});\n",
              "          if (!dataTable) return;\n",
              "\n",
              "          const docLinkHtml = 'Like what you see? Visit the ' +\n",
              "            '<a target=\"_blank\" href=https://colab.research.google.com/notebooks/data_table.ipynb>data table notebook</a>'\n",
              "            + ' to learn more about interactive tables.';\n",
              "          element.innerHTML = '';\n",
              "          dataTable['output_type'] = 'display_data';\n",
              "          await google.colab.output.renderOutput(dataTable, element);\n",
              "          const docLink = document.createElement('div');\n",
              "          docLink.innerHTML = docLinkHtml;\n",
              "          element.appendChild(docLink);\n",
              "        }\n",
              "      </script>\n",
              "    </div>\n",
              "  </div>\n",
              "  "
            ]
          },
          "metadata": {},
          "execution_count": 50
        }
      ]
    },
    {
      "cell_type": "code",
      "source": [
        "final_propaganda.to_csv('propaganda_updated_with_3_cols.csv')"
      ],
      "metadata": {
        "id": "cye_EBZUKxLi"
      },
      "execution_count": null,
      "outputs": []
    },
    {
      "cell_type": "code",
      "source": [
        "category_to_number_mapping = {\n",
        "    'Autonomy': 0,\n",
        "    'Competence': 1,\n",
        "    'Relatedness': 2\n",
        "}\n",
        "\n",
        "satisfaction_to_number_mapping = {\n",
        "    'Satisfied': 0,\n",
        "    'Dissatisfied': 1,\n",
        "    'Not Clear': 2,\n",
        "    'Neutral': 3,\n",
        "}\n",
        "\n",
        "environment_to_number_mapping = {\n",
        "    'Supportive': 0,\n",
        "    'Non-Supportive': 1,\n",
        "    'Not Clear': 2,\n",
        "}\n",
        "\n",
        "final_propaganda['Category'] = final_propaganda['Category'].map(category_to_number_mapping)\n",
        "final_propaganda['Satisfaction'] = final_propaganda['Satisfaction'].map(satisfaction_to_number_mapping)\n",
        "final_propaganda['Environment'] = final_propaganda['Environment'].map(environment_to_number_mapping)"
      ],
      "metadata": {
        "id": "HOwsEX6iMpbg"
      },
      "execution_count": null,
      "outputs": []
    },
    {
      "cell_type": "code",
      "source": [
        "final_propaganda"
      ],
      "metadata": {
        "colab": {
          "base_uri": "https://localhost:8080/",
          "height": 419
        },
        "id": "0aZQMZ75NR7K",
        "outputId": "490d9764-e3da-4020-f34c-ddee6e9c1bce"
      },
      "execution_count": null,
      "outputs": [
        {
          "output_type": "execute_result",
          "data": {
            "text/plain": [
              "      SnapColumn  SomeColumn  \\\n",
              "0           Snap           0   \n",
              "1           Snap           0   \n",
              "2           Snap           0   \n",
              "3           Snap           0   \n",
              "4           Snap           0   \n",
              "...          ...         ...   \n",
              "17921        IRA           1   \n",
              "17922        IRA           1   \n",
              "17923        IRA           1   \n",
              "17924        IRA           1   \n",
              "17925        IRA           1   \n",
              "\n",
              "                                              TextColumn  Category  \\\n",
              "0      True! This series is not over we need a strong...         2   \n",
              "1      SPC Severe Thunderstorm Watch 339: WW 339 SEVE...         0   \n",
              "2      can anyone recommend a pico projector with mon...         0   \n",
              "3                                      i got the sims 3!         0   \n",
              "4      Before the Storm' is a new song from the Jonas...         2   \n",
              "...                                                  ...       ...   \n",
              "17921  I was honored to be a part of this great rally...         2   \n",
              "17922  Dallas police refuse to applaud during Obama's...         2   \n",
              "17923  What mass shootings will be the next? I don't ...         0   \n",
              "17924              ObamasWishList Obama magic to be real         2   \n",
              "17925  TopNews New York prison escapee turns 35 on ni...         0   \n",
              "\n",
              "       Satisfaction  Environment  \n",
              "0                 0            2  \n",
              "1                 0            2  \n",
              "2                 3            2  \n",
              "3                 0            2  \n",
              "4                 2            0  \n",
              "...             ...          ...  \n",
              "17921             0            0  \n",
              "17922             1            1  \n",
              "17923             1            1  \n",
              "17924             0            2  \n",
              "17925             0            2  \n",
              "\n",
              "[17926 rows x 6 columns]"
            ],
            "text/html": [
              "\n",
              "  <div id=\"df-b05ac9bd-a043-494a-903b-5e527c58ecd2\">\n",
              "    <div class=\"colab-df-container\">\n",
              "      <div>\n",
              "<style scoped>\n",
              "    .dataframe tbody tr th:only-of-type {\n",
              "        vertical-align: middle;\n",
              "    }\n",
              "\n",
              "    .dataframe tbody tr th {\n",
              "        vertical-align: top;\n",
              "    }\n",
              "\n",
              "    .dataframe thead th {\n",
              "        text-align: right;\n",
              "    }\n",
              "</style>\n",
              "<table border=\"1\" class=\"dataframe\">\n",
              "  <thead>\n",
              "    <tr style=\"text-align: right;\">\n",
              "      <th></th>\n",
              "      <th>SnapColumn</th>\n",
              "      <th>SomeColumn</th>\n",
              "      <th>TextColumn</th>\n",
              "      <th>Category</th>\n",
              "      <th>Satisfaction</th>\n",
              "      <th>Environment</th>\n",
              "    </tr>\n",
              "  </thead>\n",
              "  <tbody>\n",
              "    <tr>\n",
              "      <th>0</th>\n",
              "      <td>Snap</td>\n",
              "      <td>0</td>\n",
              "      <td>True! This series is not over we need a strong...</td>\n",
              "      <td>2</td>\n",
              "      <td>0</td>\n",
              "      <td>2</td>\n",
              "    </tr>\n",
              "    <tr>\n",
              "      <th>1</th>\n",
              "      <td>Snap</td>\n",
              "      <td>0</td>\n",
              "      <td>SPC Severe Thunderstorm Watch 339: WW 339 SEVE...</td>\n",
              "      <td>0</td>\n",
              "      <td>0</td>\n",
              "      <td>2</td>\n",
              "    </tr>\n",
              "    <tr>\n",
              "      <th>2</th>\n",
              "      <td>Snap</td>\n",
              "      <td>0</td>\n",
              "      <td>can anyone recommend a pico projector with mon...</td>\n",
              "      <td>0</td>\n",
              "      <td>3</td>\n",
              "      <td>2</td>\n",
              "    </tr>\n",
              "    <tr>\n",
              "      <th>3</th>\n",
              "      <td>Snap</td>\n",
              "      <td>0</td>\n",
              "      <td>i got the sims 3!</td>\n",
              "      <td>0</td>\n",
              "      <td>0</td>\n",
              "      <td>2</td>\n",
              "    </tr>\n",
              "    <tr>\n",
              "      <th>4</th>\n",
              "      <td>Snap</td>\n",
              "      <td>0</td>\n",
              "      <td>Before the Storm' is a new song from the Jonas...</td>\n",
              "      <td>2</td>\n",
              "      <td>2</td>\n",
              "      <td>0</td>\n",
              "    </tr>\n",
              "    <tr>\n",
              "      <th>...</th>\n",
              "      <td>...</td>\n",
              "      <td>...</td>\n",
              "      <td>...</td>\n",
              "      <td>...</td>\n",
              "      <td>...</td>\n",
              "      <td>...</td>\n",
              "    </tr>\n",
              "    <tr>\n",
              "      <th>17921</th>\n",
              "      <td>IRA</td>\n",
              "      <td>1</td>\n",
              "      <td>I was honored to be a part of this great rally...</td>\n",
              "      <td>2</td>\n",
              "      <td>0</td>\n",
              "      <td>0</td>\n",
              "    </tr>\n",
              "    <tr>\n",
              "      <th>17922</th>\n",
              "      <td>IRA</td>\n",
              "      <td>1</td>\n",
              "      <td>Dallas police refuse to applaud during Obama's...</td>\n",
              "      <td>2</td>\n",
              "      <td>1</td>\n",
              "      <td>1</td>\n",
              "    </tr>\n",
              "    <tr>\n",
              "      <th>17923</th>\n",
              "      <td>IRA</td>\n",
              "      <td>1</td>\n",
              "      <td>What mass shootings will be the next? I don't ...</td>\n",
              "      <td>0</td>\n",
              "      <td>1</td>\n",
              "      <td>1</td>\n",
              "    </tr>\n",
              "    <tr>\n",
              "      <th>17924</th>\n",
              "      <td>IRA</td>\n",
              "      <td>1</td>\n",
              "      <td>ObamasWishList Obama magic to be real</td>\n",
              "      <td>2</td>\n",
              "      <td>0</td>\n",
              "      <td>2</td>\n",
              "    </tr>\n",
              "    <tr>\n",
              "      <th>17925</th>\n",
              "      <td>IRA</td>\n",
              "      <td>1</td>\n",
              "      <td>TopNews New York prison escapee turns 35 on ni...</td>\n",
              "      <td>0</td>\n",
              "      <td>0</td>\n",
              "      <td>2</td>\n",
              "    </tr>\n",
              "  </tbody>\n",
              "</table>\n",
              "<p>17926 rows × 6 columns</p>\n",
              "</div>\n",
              "      <button class=\"colab-df-convert\" onclick=\"convertToInteractive('df-b05ac9bd-a043-494a-903b-5e527c58ecd2')\"\n",
              "              title=\"Convert this dataframe to an interactive table.\"\n",
              "              style=\"display:none;\">\n",
              "        \n",
              "  <svg xmlns=\"http://www.w3.org/2000/svg\" height=\"24px\"viewBox=\"0 0 24 24\"\n",
              "       width=\"24px\">\n",
              "    <path d=\"M0 0h24v24H0V0z\" fill=\"none\"/>\n",
              "    <path d=\"M18.56 5.44l.94 2.06.94-2.06 2.06-.94-2.06-.94-.94-2.06-.94 2.06-2.06.94zm-11 1L8.5 8.5l.94-2.06 2.06-.94-2.06-.94L8.5 2.5l-.94 2.06-2.06.94zm10 10l.94 2.06.94-2.06 2.06-.94-2.06-.94-.94-2.06-.94 2.06-2.06.94z\"/><path d=\"M17.41 7.96l-1.37-1.37c-.4-.4-.92-.59-1.43-.59-.52 0-1.04.2-1.43.59L10.3 9.45l-7.72 7.72c-.78.78-.78 2.05 0 2.83L4 21.41c.39.39.9.59 1.41.59.51 0 1.02-.2 1.41-.59l7.78-7.78 2.81-2.81c.8-.78.8-2.07 0-2.86zM5.41 20L4 18.59l7.72-7.72 1.47 1.35L5.41 20z\"/>\n",
              "  </svg>\n",
              "      </button>\n",
              "      \n",
              "  <style>\n",
              "    .colab-df-container {\n",
              "      display:flex;\n",
              "      flex-wrap:wrap;\n",
              "      gap: 12px;\n",
              "    }\n",
              "\n",
              "    .colab-df-convert {\n",
              "      background-color: #E8F0FE;\n",
              "      border: none;\n",
              "      border-radius: 50%;\n",
              "      cursor: pointer;\n",
              "      display: none;\n",
              "      fill: #1967D2;\n",
              "      height: 32px;\n",
              "      padding: 0 0 0 0;\n",
              "      width: 32px;\n",
              "    }\n",
              "\n",
              "    .colab-df-convert:hover {\n",
              "      background-color: #E2EBFA;\n",
              "      box-shadow: 0px 1px 2px rgba(60, 64, 67, 0.3), 0px 1px 3px 1px rgba(60, 64, 67, 0.15);\n",
              "      fill: #174EA6;\n",
              "    }\n",
              "\n",
              "    [theme=dark] .colab-df-convert {\n",
              "      background-color: #3B4455;\n",
              "      fill: #D2E3FC;\n",
              "    }\n",
              "\n",
              "    [theme=dark] .colab-df-convert:hover {\n",
              "      background-color: #434B5C;\n",
              "      box-shadow: 0px 1px 3px 1px rgba(0, 0, 0, 0.15);\n",
              "      filter: drop-shadow(0px 1px 2px rgba(0, 0, 0, 0.3));\n",
              "      fill: #FFFFFF;\n",
              "    }\n",
              "  </style>\n",
              "\n",
              "      <script>\n",
              "        const buttonEl =\n",
              "          document.querySelector('#df-b05ac9bd-a043-494a-903b-5e527c58ecd2 button.colab-df-convert');\n",
              "        buttonEl.style.display =\n",
              "          google.colab.kernel.accessAllowed ? 'block' : 'none';\n",
              "\n",
              "        async function convertToInteractive(key) {\n",
              "          const element = document.querySelector('#df-b05ac9bd-a043-494a-903b-5e527c58ecd2');\n",
              "          const dataTable =\n",
              "            await google.colab.kernel.invokeFunction('convertToInteractive',\n",
              "                                                     [key], {});\n",
              "          if (!dataTable) return;\n",
              "\n",
              "          const docLinkHtml = 'Like what you see? Visit the ' +\n",
              "            '<a target=\"_blank\" href=https://colab.research.google.com/notebooks/data_table.ipynb>data table notebook</a>'\n",
              "            + ' to learn more about interactive tables.';\n",
              "          element.innerHTML = '';\n",
              "          dataTable['output_type'] = 'display_data';\n",
              "          await google.colab.output.renderOutput(dataTable, element);\n",
              "          const docLink = document.createElement('div');\n",
              "          docLink.innerHTML = docLinkHtml;\n",
              "          element.appendChild(docLink);\n",
              "        }\n",
              "      </script>\n",
              "    </div>\n",
              "  </div>\n",
              "  "
            ]
          },
          "metadata": {},
          "execution_count": 27
        }
      ]
    },
    {
      "cell_type": "code",
      "source": [
        "snap_to_number_mapping = {\n",
        "    'Snap': 0,\n",
        "    'IRA': 1\n",
        "}\n",
        "\n",
        "final_propaganda['SnapColumn'] = final_propaganda['SnapColumn'].map(snap_to_number_mapping)"
      ],
      "metadata": {
        "id": "gjLK-nXAPcgR"
      },
      "execution_count": null,
      "outputs": []
    },
    {
      "cell_type": "code",
      "source": [
        "print(\n",
        "    final_propaganda['SnapColumn'].corr(final_propaganda['Category']),\n",
        "    final_propaganda['SnapColumn'].corr(final_propaganda['Satisfaction']),\n",
        "    final_propaganda['SnapColumn'].corr(final_propaganda['Environment'])\n",
        ")\n",
        "\n",
        "print(\n",
        "    final_propaganda['SomeColumn'].corr(final_propaganda['Category']),\n",
        "    final_propaganda['SomeColumn'].corr(final_propaganda['Satisfaction']),\n",
        "    final_propaganda['SomeColumn'].corr(final_propaganda['Environment'])\n",
        ")"
      ],
      "metadata": {
        "colab": {
          "base_uri": "https://localhost:8080/"
        },
        "id": "V4isTutqPpuo",
        "outputId": "5bf8045c-3a7d-4dce-aac9-52c31464328f"
      },
      "execution_count": null,
      "outputs": [
        {
          "output_type": "stream",
          "name": "stdout",
          "text": [
            "0.17922700818895418 0.12945389080668407 -0.11873448592658487\n",
            "0.17922700818895418 0.12945389080668407 -0.11873448592658487\n"
          ]
        }
      ]
    },
    {
      "cell_type": "markdown",
      "source": [
        "# Propaganda News Dataset"
      ],
      "metadata": {
        "id": "rjNjG27M0rrK"
      }
    },
    {
      "cell_type": "code",
      "source": [
        "prop_news_df = pd.read_table('/content/drive/MyDrive/Research Paper/Disinformation_dataset/propganda_data/news/news-a-updated.tsv')"
      ],
      "metadata": {
        "id": "CD9zC4gr0uaY"
      },
      "execution_count": null,
      "outputs": []
    },
    {
      "cell_type": "code",
      "source": [
        "prop_news_df"
      ],
      "metadata": {
        "colab": {
          "base_uri": "https://localhost:8080/",
          "height": 424
        },
        "id": "ZbYnL_6L7CJL",
        "outputId": "ba6bd8ca-5bfc-4a45-ef36-8992e33189b8"
      },
      "execution_count": null,
      "outputs": [
        {
          "output_type": "execute_result",
          "data": {
            "text/plain": [
              "     News_Col  Some_Col                                               Text\n",
              "0        News         0  Et tu, Rhody?  A recent editorial in the Provi...\n",
              "1        News         0  A recent post in The Farmington Mirror — our t...\n",
              "2        News         0  President Donald Trump, as he often does while...\n",
              "3        News         0  February is Black History Month, and nothing l...\n",
              "4        News         0  The snow was so heavy, whipped up by gusting w...\n",
              "...       ...       ...                                                ...\n",
              "7792     News         1  From The Telegraph:  Towns in Brazil have beco...\n",
              "7793     News         1  The second episode of Consortium News on Flash...\n",
              "7794     News         1  It is beginning.  Actually, it’s been happenin...\n",
              "7795     News         1  Justin’s note: As regular Dispatch readers kno...\n",
              "7796     News         1  “No man can serve two masters” (Matthew 6:24)....\n",
              "\n",
              "[7797 rows x 3 columns]"
            ],
            "text/html": [
              "\n",
              "  <div id=\"df-c5c21ad8-22e7-47f7-b414-1ddb6277ecd3\">\n",
              "    <div class=\"colab-df-container\">\n",
              "      <div>\n",
              "<style scoped>\n",
              "    .dataframe tbody tr th:only-of-type {\n",
              "        vertical-align: middle;\n",
              "    }\n",
              "\n",
              "    .dataframe tbody tr th {\n",
              "        vertical-align: top;\n",
              "    }\n",
              "\n",
              "    .dataframe thead th {\n",
              "        text-align: right;\n",
              "    }\n",
              "</style>\n",
              "<table border=\"1\" class=\"dataframe\">\n",
              "  <thead>\n",
              "    <tr style=\"text-align: right;\">\n",
              "      <th></th>\n",
              "      <th>News_Col</th>\n",
              "      <th>Some_Col</th>\n",
              "      <th>Text</th>\n",
              "    </tr>\n",
              "  </thead>\n",
              "  <tbody>\n",
              "    <tr>\n",
              "      <th>0</th>\n",
              "      <td>News</td>\n",
              "      <td>0</td>\n",
              "      <td>Et tu, Rhody?  A recent editorial in the Provi...</td>\n",
              "    </tr>\n",
              "    <tr>\n",
              "      <th>1</th>\n",
              "      <td>News</td>\n",
              "      <td>0</td>\n",
              "      <td>A recent post in The Farmington Mirror — our t...</td>\n",
              "    </tr>\n",
              "    <tr>\n",
              "      <th>2</th>\n",
              "      <td>News</td>\n",
              "      <td>0</td>\n",
              "      <td>President Donald Trump, as he often does while...</td>\n",
              "    </tr>\n",
              "    <tr>\n",
              "      <th>3</th>\n",
              "      <td>News</td>\n",
              "      <td>0</td>\n",
              "      <td>February is Black History Month, and nothing l...</td>\n",
              "    </tr>\n",
              "    <tr>\n",
              "      <th>4</th>\n",
              "      <td>News</td>\n",
              "      <td>0</td>\n",
              "      <td>The snow was so heavy, whipped up by gusting w...</td>\n",
              "    </tr>\n",
              "    <tr>\n",
              "      <th>...</th>\n",
              "      <td>...</td>\n",
              "      <td>...</td>\n",
              "      <td>...</td>\n",
              "    </tr>\n",
              "    <tr>\n",
              "      <th>7792</th>\n",
              "      <td>News</td>\n",
              "      <td>1</td>\n",
              "      <td>From The Telegraph:  Towns in Brazil have beco...</td>\n",
              "    </tr>\n",
              "    <tr>\n",
              "      <th>7793</th>\n",
              "      <td>News</td>\n",
              "      <td>1</td>\n",
              "      <td>The second episode of Consortium News on Flash...</td>\n",
              "    </tr>\n",
              "    <tr>\n",
              "      <th>7794</th>\n",
              "      <td>News</td>\n",
              "      <td>1</td>\n",
              "      <td>It is beginning.  Actually, it’s been happenin...</td>\n",
              "    </tr>\n",
              "    <tr>\n",
              "      <th>7795</th>\n",
              "      <td>News</td>\n",
              "      <td>1</td>\n",
              "      <td>Justin’s note: As regular Dispatch readers kno...</td>\n",
              "    </tr>\n",
              "    <tr>\n",
              "      <th>7796</th>\n",
              "      <td>News</td>\n",
              "      <td>1</td>\n",
              "      <td>“No man can serve two masters” (Matthew 6:24)....</td>\n",
              "    </tr>\n",
              "  </tbody>\n",
              "</table>\n",
              "<p>7797 rows × 3 columns</p>\n",
              "</div>\n",
              "      <button class=\"colab-df-convert\" onclick=\"convertToInteractive('df-c5c21ad8-22e7-47f7-b414-1ddb6277ecd3')\"\n",
              "              title=\"Convert this dataframe to an interactive table.\"\n",
              "              style=\"display:none;\">\n",
              "        \n",
              "  <svg xmlns=\"http://www.w3.org/2000/svg\" height=\"24px\"viewBox=\"0 0 24 24\"\n",
              "       width=\"24px\">\n",
              "    <path d=\"M0 0h24v24H0V0z\" fill=\"none\"/>\n",
              "    <path d=\"M18.56 5.44l.94 2.06.94-2.06 2.06-.94-2.06-.94-.94-2.06-.94 2.06-2.06.94zm-11 1L8.5 8.5l.94-2.06 2.06-.94-2.06-.94L8.5 2.5l-.94 2.06-2.06.94zm10 10l.94 2.06.94-2.06 2.06-.94-2.06-.94-.94-2.06-.94 2.06-2.06.94z\"/><path d=\"M17.41 7.96l-1.37-1.37c-.4-.4-.92-.59-1.43-.59-.52 0-1.04.2-1.43.59L10.3 9.45l-7.72 7.72c-.78.78-.78 2.05 0 2.83L4 21.41c.39.39.9.59 1.41.59.51 0 1.02-.2 1.41-.59l7.78-7.78 2.81-2.81c.8-.78.8-2.07 0-2.86zM5.41 20L4 18.59l7.72-7.72 1.47 1.35L5.41 20z\"/>\n",
              "  </svg>\n",
              "      </button>\n",
              "      \n",
              "  <style>\n",
              "    .colab-df-container {\n",
              "      display:flex;\n",
              "      flex-wrap:wrap;\n",
              "      gap: 12px;\n",
              "    }\n",
              "\n",
              "    .colab-df-convert {\n",
              "      background-color: #E8F0FE;\n",
              "      border: none;\n",
              "      border-radius: 50%;\n",
              "      cursor: pointer;\n",
              "      display: none;\n",
              "      fill: #1967D2;\n",
              "      height: 32px;\n",
              "      padding: 0 0 0 0;\n",
              "      width: 32px;\n",
              "    }\n",
              "\n",
              "    .colab-df-convert:hover {\n",
              "      background-color: #E2EBFA;\n",
              "      box-shadow: 0px 1px 2px rgba(60, 64, 67, 0.3), 0px 1px 3px 1px rgba(60, 64, 67, 0.15);\n",
              "      fill: #174EA6;\n",
              "    }\n",
              "\n",
              "    [theme=dark] .colab-df-convert {\n",
              "      background-color: #3B4455;\n",
              "      fill: #D2E3FC;\n",
              "    }\n",
              "\n",
              "    [theme=dark] .colab-df-convert:hover {\n",
              "      background-color: #434B5C;\n",
              "      box-shadow: 0px 1px 3px 1px rgba(0, 0, 0, 0.15);\n",
              "      filter: drop-shadow(0px 1px 2px rgba(0, 0, 0, 0.3));\n",
              "      fill: #FFFFFF;\n",
              "    }\n",
              "  </style>\n",
              "\n",
              "      <script>\n",
              "        const buttonEl =\n",
              "          document.querySelector('#df-c5c21ad8-22e7-47f7-b414-1ddb6277ecd3 button.colab-df-convert');\n",
              "        buttonEl.style.display =\n",
              "          google.colab.kernel.accessAllowed ? 'block' : 'none';\n",
              "\n",
              "        async function convertToInteractive(key) {\n",
              "          const element = document.querySelector('#df-c5c21ad8-22e7-47f7-b414-1ddb6277ecd3');\n",
              "          const dataTable =\n",
              "            await google.colab.kernel.invokeFunction('convertToInteractive',\n",
              "                                                     [key], {});\n",
              "          if (!dataTable) return;\n",
              "\n",
              "          const docLinkHtml = 'Like what you see? Visit the ' +\n",
              "            '<a target=\"_blank\" href=https://colab.research.google.com/notebooks/data_table.ipynb>data table notebook</a>'\n",
              "            + ' to learn more about interactive tables.';\n",
              "          element.innerHTML = '';\n",
              "          dataTable['output_type'] = 'display_data';\n",
              "          await google.colab.output.renderOutput(dataTable, element);\n",
              "          const docLink = document.createElement('div');\n",
              "          docLink.innerHTML = docLinkHtml;\n",
              "          element.appendChild(docLink);\n",
              "        }\n",
              "      </script>\n",
              "    </div>\n",
              "  </div>\n",
              "  "
            ]
          },
          "metadata": {},
          "execution_count": 54
        }
      ]
    },
    {
      "cell_type": "code",
      "source": [
        "filt1 = prop_news_df['Some_Col'] == 0"
      ],
      "metadata": {
        "id": "LtwE0Vl2-UaA"
      },
      "execution_count": null,
      "outputs": []
    },
    {
      "cell_type": "code",
      "source": [
        "revised_prop_news_df = prop_news_df[filt1]"
      ],
      "metadata": {
        "id": "aG1DKb3L-nt9"
      },
      "execution_count": null,
      "outputs": []
    },
    {
      "cell_type": "code",
      "source": [
        "y_pred_cat = cat_model_upload.predict(revised_prop_news_df['Text'].to_list())\n",
        "y_pred_sat = sat_model_upload.predict(revised_prop_news_df['Text'].to_list())\n",
        "y_pred_env = env_model_upload.predict(revised_prop_news_df['Text'].to_list())"
      ],
      "metadata": {
        "id": "oGcD9xSH-t8x"
      },
      "execution_count": null,
      "outputs": []
    },
    {
      "cell_type": "code",
      "source": [
        "cat_f1_series = pd.Series( (v for v in y_pred_cat) )\n",
        "sat_f1_series = pd.Series( (v for v in y_pred_sat) )\n",
        "env_f1_series = pd.Series( (v for v in y_pred_env) )"
      ],
      "metadata": {
        "id": "zLm9fMuVAYvu"
      },
      "execution_count": null,
      "outputs": []
    },
    {
      "cell_type": "code",
      "source": [
        "final_prop_news_df = pd.concat([revised_prop_news_df['Text'], cat_f1_series, sat_f1_series, env_f1_series], axis=1)"
      ],
      "metadata": {
        "id": "Aa0lX-AQ-8BA"
      },
      "execution_count": null,
      "outputs": []
    },
    {
      "cell_type": "code",
      "source": [
        "final_prop_news_df.to_csv('final_prop_news.csv')"
      ],
      "metadata": {
        "id": "0XE4vxmx_2cX"
      },
      "execution_count": null,
      "outputs": []
    },
    {
      "cell_type": "code",
      "source": [
        "final_prop_news_df.head()"
      ],
      "metadata": {
        "colab": {
          "base_uri": "https://localhost:8080/",
          "height": 206
        },
        "id": "uWZXDmJeTkRv",
        "outputId": "7037f6f7-16c9-41e3-bbaa-ef304a171c67"
      },
      "execution_count": null,
      "outputs": [
        {
          "output_type": "execute_result",
          "data": {
            "text/plain": [
              "                                                Text            0  \\\n",
              "0  Et tu, Rhody?  A recent editorial in the Provi...  Relatedness   \n",
              "1  A recent post in The Farmington Mirror — our t...  Relatedness   \n",
              "2  President Donald Trump, as he often does while...  Relatedness   \n",
              "3  February is Black History Month, and nothing l...     Autonomy   \n",
              "4  The snow was so heavy, whipped up by gusting w...  Relatedness   \n",
              "\n",
              "              1               2  \n",
              "0  Dissatisfied  Non-Supportive  \n",
              "1  Dissatisfied  Non-Supportive  \n",
              "2     Satisfied      Supportive  \n",
              "3     Satisfied       Not Clear  \n",
              "4  Dissatisfied  Non-Supportive  "
            ],
            "text/html": [
              "\n",
              "  <div id=\"df-951883ad-17e0-4741-b4d4-f5bcb4bd0f9a\">\n",
              "    <div class=\"colab-df-container\">\n",
              "      <div>\n",
              "<style scoped>\n",
              "    .dataframe tbody tr th:only-of-type {\n",
              "        vertical-align: middle;\n",
              "    }\n",
              "\n",
              "    .dataframe tbody tr th {\n",
              "        vertical-align: top;\n",
              "    }\n",
              "\n",
              "    .dataframe thead th {\n",
              "        text-align: right;\n",
              "    }\n",
              "</style>\n",
              "<table border=\"1\" class=\"dataframe\">\n",
              "  <thead>\n",
              "    <tr style=\"text-align: right;\">\n",
              "      <th></th>\n",
              "      <th>Text</th>\n",
              "      <th>0</th>\n",
              "      <th>1</th>\n",
              "      <th>2</th>\n",
              "    </tr>\n",
              "  </thead>\n",
              "  <tbody>\n",
              "    <tr>\n",
              "      <th>0</th>\n",
              "      <td>Et tu, Rhody?  A recent editorial in the Provi...</td>\n",
              "      <td>Relatedness</td>\n",
              "      <td>Dissatisfied</td>\n",
              "      <td>Non-Supportive</td>\n",
              "    </tr>\n",
              "    <tr>\n",
              "      <th>1</th>\n",
              "      <td>A recent post in The Farmington Mirror — our t...</td>\n",
              "      <td>Relatedness</td>\n",
              "      <td>Dissatisfied</td>\n",
              "      <td>Non-Supportive</td>\n",
              "    </tr>\n",
              "    <tr>\n",
              "      <th>2</th>\n",
              "      <td>President Donald Trump, as he often does while...</td>\n",
              "      <td>Relatedness</td>\n",
              "      <td>Satisfied</td>\n",
              "      <td>Supportive</td>\n",
              "    </tr>\n",
              "    <tr>\n",
              "      <th>3</th>\n",
              "      <td>February is Black History Month, and nothing l...</td>\n",
              "      <td>Autonomy</td>\n",
              "      <td>Satisfied</td>\n",
              "      <td>Not Clear</td>\n",
              "    </tr>\n",
              "    <tr>\n",
              "      <th>4</th>\n",
              "      <td>The snow was so heavy, whipped up by gusting w...</td>\n",
              "      <td>Relatedness</td>\n",
              "      <td>Dissatisfied</td>\n",
              "      <td>Non-Supportive</td>\n",
              "    </tr>\n",
              "  </tbody>\n",
              "</table>\n",
              "</div>\n",
              "      <button class=\"colab-df-convert\" onclick=\"convertToInteractive('df-951883ad-17e0-4741-b4d4-f5bcb4bd0f9a')\"\n",
              "              title=\"Convert this dataframe to an interactive table.\"\n",
              "              style=\"display:none;\">\n",
              "        \n",
              "  <svg xmlns=\"http://www.w3.org/2000/svg\" height=\"24px\"viewBox=\"0 0 24 24\"\n",
              "       width=\"24px\">\n",
              "    <path d=\"M0 0h24v24H0V0z\" fill=\"none\"/>\n",
              "    <path d=\"M18.56 5.44l.94 2.06.94-2.06 2.06-.94-2.06-.94-.94-2.06-.94 2.06-2.06.94zm-11 1L8.5 8.5l.94-2.06 2.06-.94-2.06-.94L8.5 2.5l-.94 2.06-2.06.94zm10 10l.94 2.06.94-2.06 2.06-.94-2.06-.94-.94-2.06-.94 2.06-2.06.94z\"/><path d=\"M17.41 7.96l-1.37-1.37c-.4-.4-.92-.59-1.43-.59-.52 0-1.04.2-1.43.59L10.3 9.45l-7.72 7.72c-.78.78-.78 2.05 0 2.83L4 21.41c.39.39.9.59 1.41.59.51 0 1.02-.2 1.41-.59l7.78-7.78 2.81-2.81c.8-.78.8-2.07 0-2.86zM5.41 20L4 18.59l7.72-7.72 1.47 1.35L5.41 20z\"/>\n",
              "  </svg>\n",
              "      </button>\n",
              "      \n",
              "  <style>\n",
              "    .colab-df-container {\n",
              "      display:flex;\n",
              "      flex-wrap:wrap;\n",
              "      gap: 12px;\n",
              "    }\n",
              "\n",
              "    .colab-df-convert {\n",
              "      background-color: #E8F0FE;\n",
              "      border: none;\n",
              "      border-radius: 50%;\n",
              "      cursor: pointer;\n",
              "      display: none;\n",
              "      fill: #1967D2;\n",
              "      height: 32px;\n",
              "      padding: 0 0 0 0;\n",
              "      width: 32px;\n",
              "    }\n",
              "\n",
              "    .colab-df-convert:hover {\n",
              "      background-color: #E2EBFA;\n",
              "      box-shadow: 0px 1px 2px rgba(60, 64, 67, 0.3), 0px 1px 3px 1px rgba(60, 64, 67, 0.15);\n",
              "      fill: #174EA6;\n",
              "    }\n",
              "\n",
              "    [theme=dark] .colab-df-convert {\n",
              "      background-color: #3B4455;\n",
              "      fill: #D2E3FC;\n",
              "    }\n",
              "\n",
              "    [theme=dark] .colab-df-convert:hover {\n",
              "      background-color: #434B5C;\n",
              "      box-shadow: 0px 1px 3px 1px rgba(0, 0, 0, 0.15);\n",
              "      filter: drop-shadow(0px 1px 2px rgba(0, 0, 0, 0.3));\n",
              "      fill: #FFFFFF;\n",
              "    }\n",
              "  </style>\n",
              "\n",
              "      <script>\n",
              "        const buttonEl =\n",
              "          document.querySelector('#df-951883ad-17e0-4741-b4d4-f5bcb4bd0f9a button.colab-df-convert');\n",
              "        buttonEl.style.display =\n",
              "          google.colab.kernel.accessAllowed ? 'block' : 'none';\n",
              "\n",
              "        async function convertToInteractive(key) {\n",
              "          const element = document.querySelector('#df-951883ad-17e0-4741-b4d4-f5bcb4bd0f9a');\n",
              "          const dataTable =\n",
              "            await google.colab.kernel.invokeFunction('convertToInteractive',\n",
              "                                                     [key], {});\n",
              "          if (!dataTable) return;\n",
              "\n",
              "          const docLinkHtml = 'Like what you see? Visit the ' +\n",
              "            '<a target=\"_blank\" href=https://colab.research.google.com/notebooks/data_table.ipynb>data table notebook</a>'\n",
              "            + ' to learn more about interactive tables.';\n",
              "          element.innerHTML = '';\n",
              "          dataTable['output_type'] = 'display_data';\n",
              "          await google.colab.output.renderOutput(dataTable, element);\n",
              "          const docLink = document.createElement('div');\n",
              "          docLink.innerHTML = docLinkHtml;\n",
              "          element.appendChild(docLink);\n",
              "        }\n",
              "      </script>\n",
              "    </div>\n",
              "  </div>\n",
              "  "
            ]
          },
          "metadata": {},
          "execution_count": 87
        }
      ]
    },
    {
      "cell_type": "code",
      "source": [
        "final_prop_news_df.columns = ['Text', 'Category', 'Satisfaction', 'Environment']"
      ],
      "metadata": {
        "id": "3eCE7mzpVHkq"
      },
      "execution_count": null,
      "outputs": []
    },
    {
      "cell_type": "code",
      "source": [
        "final_prop_news_df.to_csv('propaganda_news_updated_with_3_cols.csv')"
      ],
      "metadata": {
        "id": "ihrfiJp0VQKt"
      },
      "execution_count": null,
      "outputs": []
    },
    {
      "cell_type": "markdown",
      "source": [
        "#Propaganda Speech Dataset"
      ],
      "metadata": {
        "id": "9sGq9N2qYpta"
      }
    },
    {
      "cell_type": "code",
      "source": [
        "prop_speech_df = pd.read_table('/content/drive/MyDrive/Research Paper/Disinformation_dataset/propganda_data/speech/speech-a.tsv')"
      ],
      "metadata": {
        "id": "rQKloqAnYpMQ"
      },
      "execution_count": null,
      "outputs": []
    },
    {
      "cell_type": "code",
      "source": [
        "prop_speech_df"
      ],
      "metadata": {
        "id": "B67bMxT9YwxV"
      },
      "execution_count": null,
      "outputs": []
    },
    {
      "cell_type": "code",
      "source": [
        "prop_speech_df.columns = ['Orator', 'Binary Value', 'Speech']"
      ],
      "metadata": {
        "id": "jhAHKzh5ZWaw"
      },
      "execution_count": null,
      "outputs": []
    },
    {
      "cell_type": "code",
      "source": [
        "prop_speech_df"
      ],
      "metadata": {
        "colab": {
          "base_uri": "https://localhost:8080/",
          "height": 424
        },
        "id": "p1Ht93pVZb34",
        "outputId": "e6440c8a-cedb-482d-cfc1-35cf0e6e24ca"
      },
      "execution_count": null,
      "outputs": [
        {
          "output_type": "execute_result",
          "data": {
            "text/plain": [
              "       Orator  Binary Value                                             Speech\n",
              "0       Obama             0  Election Night Victory Speech Grant Park, Illi...\n",
              "1       Obama             0  Manassas, Prince William County, Virginia Nove...\n",
              "2       Obama             0  The American Promise Acceptance Speech at the ...\n",
              "3       Obama             0  Final Primary Night Presumptive Democratic Nom...\n",
              "4       Obama             0  North Carolina Primary Night Raleigh, NC May 6...\n",
              "..        ...           ...                                                ...\n",
              "282  Goebbels             1    The English are well known throughout the wo...\n",
              "283  Goebbels             1    It is a major error to assume that England’s...\n",
              "284  Goebbels             1   by Joseph Goebbels History does not repeat it...\n",
              "285  Goebbels             1    In Germany people say that the Führer is alw...\n",
              "286  Goebbels             1    There is no point to debating Mr. Churchill ...\n",
              "\n",
              "[287 rows x 3 columns]"
            ],
            "text/html": [
              "\n",
              "  <div id=\"df-00af9df5-e2dd-4953-8a8c-5394edf57c19\">\n",
              "    <div class=\"colab-df-container\">\n",
              "      <div>\n",
              "<style scoped>\n",
              "    .dataframe tbody tr th:only-of-type {\n",
              "        vertical-align: middle;\n",
              "    }\n",
              "\n",
              "    .dataframe tbody tr th {\n",
              "        vertical-align: top;\n",
              "    }\n",
              "\n",
              "    .dataframe thead th {\n",
              "        text-align: right;\n",
              "    }\n",
              "</style>\n",
              "<table border=\"1\" class=\"dataframe\">\n",
              "  <thead>\n",
              "    <tr style=\"text-align: right;\">\n",
              "      <th></th>\n",
              "      <th>Orator</th>\n",
              "      <th>Binary Value</th>\n",
              "      <th>Speech</th>\n",
              "    </tr>\n",
              "  </thead>\n",
              "  <tbody>\n",
              "    <tr>\n",
              "      <th>0</th>\n",
              "      <td>Obama</td>\n",
              "      <td>0</td>\n",
              "      <td>Election Night Victory Speech Grant Park, Illi...</td>\n",
              "    </tr>\n",
              "    <tr>\n",
              "      <th>1</th>\n",
              "      <td>Obama</td>\n",
              "      <td>0</td>\n",
              "      <td>Manassas, Prince William County, Virginia Nove...</td>\n",
              "    </tr>\n",
              "    <tr>\n",
              "      <th>2</th>\n",
              "      <td>Obama</td>\n",
              "      <td>0</td>\n",
              "      <td>The American Promise Acceptance Speech at the ...</td>\n",
              "    </tr>\n",
              "    <tr>\n",
              "      <th>3</th>\n",
              "      <td>Obama</td>\n",
              "      <td>0</td>\n",
              "      <td>Final Primary Night Presumptive Democratic Nom...</td>\n",
              "    </tr>\n",
              "    <tr>\n",
              "      <th>4</th>\n",
              "      <td>Obama</td>\n",
              "      <td>0</td>\n",
              "      <td>North Carolina Primary Night Raleigh, NC May 6...</td>\n",
              "    </tr>\n",
              "    <tr>\n",
              "      <th>...</th>\n",
              "      <td>...</td>\n",
              "      <td>...</td>\n",
              "      <td>...</td>\n",
              "    </tr>\n",
              "    <tr>\n",
              "      <th>282</th>\n",
              "      <td>Goebbels</td>\n",
              "      <td>1</td>\n",
              "      <td>The English are well known throughout the wo...</td>\n",
              "    </tr>\n",
              "    <tr>\n",
              "      <th>283</th>\n",
              "      <td>Goebbels</td>\n",
              "      <td>1</td>\n",
              "      <td>It is a major error to assume that England’s...</td>\n",
              "    </tr>\n",
              "    <tr>\n",
              "      <th>284</th>\n",
              "      <td>Goebbels</td>\n",
              "      <td>1</td>\n",
              "      <td>by Joseph Goebbels History does not repeat it...</td>\n",
              "    </tr>\n",
              "    <tr>\n",
              "      <th>285</th>\n",
              "      <td>Goebbels</td>\n",
              "      <td>1</td>\n",
              "      <td>In Germany people say that the Führer is alw...</td>\n",
              "    </tr>\n",
              "    <tr>\n",
              "      <th>286</th>\n",
              "      <td>Goebbels</td>\n",
              "      <td>1</td>\n",
              "      <td>There is no point to debating Mr. Churchill ...</td>\n",
              "    </tr>\n",
              "  </tbody>\n",
              "</table>\n",
              "<p>287 rows × 3 columns</p>\n",
              "</div>\n",
              "      <button class=\"colab-df-convert\" onclick=\"convertToInteractive('df-00af9df5-e2dd-4953-8a8c-5394edf57c19')\"\n",
              "              title=\"Convert this dataframe to an interactive table.\"\n",
              "              style=\"display:none;\">\n",
              "        \n",
              "  <svg xmlns=\"http://www.w3.org/2000/svg\" height=\"24px\"viewBox=\"0 0 24 24\"\n",
              "       width=\"24px\">\n",
              "    <path d=\"M0 0h24v24H0V0z\" fill=\"none\"/>\n",
              "    <path d=\"M18.56 5.44l.94 2.06.94-2.06 2.06-.94-2.06-.94-.94-2.06-.94 2.06-2.06.94zm-11 1L8.5 8.5l.94-2.06 2.06-.94-2.06-.94L8.5 2.5l-.94 2.06-2.06.94zm10 10l.94 2.06.94-2.06 2.06-.94-2.06-.94-.94-2.06-.94 2.06-2.06.94z\"/><path d=\"M17.41 7.96l-1.37-1.37c-.4-.4-.92-.59-1.43-.59-.52 0-1.04.2-1.43.59L10.3 9.45l-7.72 7.72c-.78.78-.78 2.05 0 2.83L4 21.41c.39.39.9.59 1.41.59.51 0 1.02-.2 1.41-.59l7.78-7.78 2.81-2.81c.8-.78.8-2.07 0-2.86zM5.41 20L4 18.59l7.72-7.72 1.47 1.35L5.41 20z\"/>\n",
              "  </svg>\n",
              "      </button>\n",
              "      \n",
              "  <style>\n",
              "    .colab-df-container {\n",
              "      display:flex;\n",
              "      flex-wrap:wrap;\n",
              "      gap: 12px;\n",
              "    }\n",
              "\n",
              "    .colab-df-convert {\n",
              "      background-color: #E8F0FE;\n",
              "      border: none;\n",
              "      border-radius: 50%;\n",
              "      cursor: pointer;\n",
              "      display: none;\n",
              "      fill: #1967D2;\n",
              "      height: 32px;\n",
              "      padding: 0 0 0 0;\n",
              "      width: 32px;\n",
              "    }\n",
              "\n",
              "    .colab-df-convert:hover {\n",
              "      background-color: #E2EBFA;\n",
              "      box-shadow: 0px 1px 2px rgba(60, 64, 67, 0.3), 0px 1px 3px 1px rgba(60, 64, 67, 0.15);\n",
              "      fill: #174EA6;\n",
              "    }\n",
              "\n",
              "    [theme=dark] .colab-df-convert {\n",
              "      background-color: #3B4455;\n",
              "      fill: #D2E3FC;\n",
              "    }\n",
              "\n",
              "    [theme=dark] .colab-df-convert:hover {\n",
              "      background-color: #434B5C;\n",
              "      box-shadow: 0px 1px 3px 1px rgba(0, 0, 0, 0.15);\n",
              "      filter: drop-shadow(0px 1px 2px rgba(0, 0, 0, 0.3));\n",
              "      fill: #FFFFFF;\n",
              "    }\n",
              "  </style>\n",
              "\n",
              "      <script>\n",
              "        const buttonEl =\n",
              "          document.querySelector('#df-00af9df5-e2dd-4953-8a8c-5394edf57c19 button.colab-df-convert');\n",
              "        buttonEl.style.display =\n",
              "          google.colab.kernel.accessAllowed ? 'block' : 'none';\n",
              "\n",
              "        async function convertToInteractive(key) {\n",
              "          const element = document.querySelector('#df-00af9df5-e2dd-4953-8a8c-5394edf57c19');\n",
              "          const dataTable =\n",
              "            await google.colab.kernel.invokeFunction('convertToInteractive',\n",
              "                                                     [key], {});\n",
              "          if (!dataTable) return;\n",
              "\n",
              "          const docLinkHtml = 'Like what you see? Visit the ' +\n",
              "            '<a target=\"_blank\" href=https://colab.research.google.com/notebooks/data_table.ipynb>data table notebook</a>'\n",
              "            + ' to learn more about interactive tables.';\n",
              "          element.innerHTML = '';\n",
              "          dataTable['output_type'] = 'display_data';\n",
              "          await google.colab.output.renderOutput(dataTable, element);\n",
              "          const docLink = document.createElement('div');\n",
              "          docLink.innerHTML = docLinkHtml;\n",
              "          element.appendChild(docLink);\n",
              "        }\n",
              "      </script>\n",
              "    </div>\n",
              "  </div>\n",
              "  "
            ]
          },
          "metadata": {},
          "execution_count": 111
        }
      ]
    },
    {
      "cell_type": "code",
      "source": [
        "y_pred_cat = cat_model_upload.predict(prop_speech_df['Speech'].to_list())\n",
        "y_pred_sat = sat_model_upload.predict(prop_speech_df['Speech'].to_list())\n",
        "y_pred_env = env_model_upload.predict(prop_speech_df['Speech'].to_list())"
      ],
      "metadata": {
        "id": "dlUOhQx3YvM5"
      },
      "execution_count": null,
      "outputs": []
    },
    {
      "cell_type": "code",
      "source": [
        "cat_f1_series = pd.Series( (v for v in y_pred_cat) )\n",
        "sat_f1_series = pd.Series( (v for v in y_pred_sat) )\n",
        "env_f1_series = pd.Series( (v for v in y_pred_env) )"
      ],
      "metadata": {
        "id": "fkYJLTtgZjUU"
      },
      "execution_count": null,
      "outputs": []
    },
    {
      "cell_type": "code",
      "source": [
        "final_prop_speech_df = pd.concat([prop_speech_df['Speech'], cat_f1_series, sat_f1_series, env_f1_series], axis=1)"
      ],
      "metadata": {
        "id": "RB1lRASjZkfn"
      },
      "execution_count": null,
      "outputs": []
    },
    {
      "cell_type": "code",
      "source": [
        "final_prop_news_df.columns = ['Text', 'Category', 'Satisfaction', 'Environment']"
      ],
      "metadata": {
        "id": "4_ID_-j8ZuXx"
      },
      "execution_count": null,
      "outputs": []
    },
    {
      "cell_type": "code",
      "source": [
        "final_prop_news_df.to_csv('propaganda_speech_updated_with_3_cols.csv')"
      ],
      "metadata": {
        "id": "-GRn3zmEZsMM"
      },
      "execution_count": null,
      "outputs": []
    }
  ]
}